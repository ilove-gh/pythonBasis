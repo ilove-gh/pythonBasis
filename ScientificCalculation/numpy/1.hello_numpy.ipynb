{
 "cells": [
  {
   "cell_type": "code",
   "execution_count": 1,
   "metadata": {
    "pycharm": {
     "name": "#%%\n"
    }
   },
   "outputs": [],
   "source": [
    "import numpy as np"
   ]
  },
  {
   "cell_type": "markdown",
   "metadata": {
    "pycharm": {
     "name": "#%% md\n"
    }
   },
   "source": [
    "# 创建"
   ]
  },
  {
   "cell_type": "code",
   "execution_count": 2,
   "metadata": {
    "pycharm": {
     "name": "#%%\n"
    }
   },
   "outputs": [],
   "source": [
    "score = np.array([[80, 89, 86, 67, 79],\n",
    "          [78, 97, 89, 67, 81],\n",
    "          [90, 94, 78, 67, 74],\n",
    "          [91, 91, 90, 67, 69],\n",
    "          [76, 87, 75, 67, 86],\n",
    "          [70, 79, 84, 67, 84],\n",
    "          [94, 92, 93, 67, 64],\n",
    "          [86, 85, 83, 67, 80]])"
   ]
  },
  {
   "cell_type": "code",
   "execution_count": 3,
   "metadata": {
    "pycharm": {
     "name": "#%%\n"
    }
   },
   "outputs": [
    {
     "data": {
      "text/plain": [
       "array([[80, 89, 86, 67, 79],\n",
       "       [78, 97, 89, 67, 81],\n",
       "       [90, 94, 78, 67, 74],\n",
       "       [91, 91, 90, 67, 69],\n",
       "       [76, 87, 75, 67, 86],\n",
       "       [70, 79, 84, 67, 84],\n",
       "       [94, 92, 93, 67, 64],\n",
       "       [86, 85, 83, 67, 80]])"
      ]
     },
     "execution_count": 3,
     "metadata": {},
     "output_type": "execute_result"
    }
   ],
   "source": [
    "score"
   ]
  },
  {
   "cell_type": "markdown",
   "metadata": {
    "pycharm": {
     "name": "#%% md\n"
    }
   },
   "source": [
    "# 效率对比"
   ]
  },
  {
   "cell_type": "code",
   "execution_count": 4,
   "metadata": {
    "pycharm": {
     "name": "#%%\n"
    }
   },
   "outputs": [
    {
     "name": "stdout",
     "output_type": "stream",
     "text": [
      "Wall time: 408 ms\n",
      "Wall time: 115 ms\n"
     ]
    }
   ],
   "source": [
    "import random\n",
    "import time\n",
    "import numpy as np\n",
    "a = []\n",
    "for i in range(100000000):\n",
    "    a.append(random.random())\n",
    "\n",
    "# 通过%time魔法方法, 查看当前行的代码运行一次所花费的时间\n",
    "%time sum1=sum(a)\n",
    "\n",
    "b=np.array(a)\n",
    "\n",
    "%time sum2=np.sum(b)"
   ]
  },
  {
   "cell_type": "markdown",
   "metadata": {
    "pycharm": {
     "name": "#%% md\n"
    }
   },
   "source": [
    "# ndarray的属性"
   ]
  },
  {
   "cell_type": "code",
   "execution_count": 27,
   "metadata": {
    "pycharm": {
     "name": "#%%\n"
    }
   },
   "outputs": [
    {
     "data": {
      "text/plain": [
       "(8, 5)"
      ]
     },
     "execution_count": 27,
     "metadata": {},
     "output_type": "execute_result"
    }
   ],
   "source": [
    "score.shape"
   ]
  },
  {
   "cell_type": "code",
   "execution_count": 28,
   "metadata": {
    "pycharm": {
     "name": "#%%\n"
    }
   },
   "outputs": [
    {
     "data": {
      "text/plain": [
       "2"
      ]
     },
     "execution_count": 28,
     "metadata": {},
     "output_type": "execute_result"
    }
   ],
   "source": [
    "score.ndim"
   ]
  },
  {
   "cell_type": "code",
   "execution_count": 29,
   "metadata": {
    "pycharm": {
     "name": "#%%\n"
    }
   },
   "outputs": [
    {
     "data": {
      "text/plain": [
       "40"
      ]
     },
     "execution_count": 29,
     "metadata": {},
     "output_type": "execute_result"
    }
   ],
   "source": [
    "score.size"
   ]
  },
  {
   "cell_type": "code",
   "execution_count": 30,
   "metadata": {
    "pycharm": {
     "name": "#%%\n"
    }
   },
   "outputs": [
    {
     "data": {
      "text/plain": [
       "4"
      ]
     },
     "execution_count": 30,
     "metadata": {},
     "output_type": "execute_result"
    }
   ],
   "source": [
    "score.itemsize"
   ]
  },
  {
   "cell_type": "code",
   "execution_count": 31,
   "metadata": {
    "pycharm": {
     "name": "#%%\n"
    }
   },
   "outputs": [
    {
     "data": {
      "text/plain": [
       "dtype('int32')"
      ]
     },
     "execution_count": 31,
     "metadata": {},
     "output_type": "execute_result"
    }
   ],
   "source": [
    "score.dtype"
   ]
  },
  {
   "cell_type": "markdown",
   "metadata": {
    "pycharm": {
     "name": "#%% md\n"
    }
   },
   "source": [
    "# ndarray的形状"
   ]
  },
  {
   "cell_type": "code",
   "execution_count": 32,
   "metadata": {
    "pycharm": {
     "name": "#%%\n"
    }
   },
   "outputs": [],
   "source": [
    "a = np.array([1,2,3])"
   ]
  },
  {
   "cell_type": "code",
   "execution_count": 33,
   "metadata": {
    "pycharm": {
     "name": "#%%\n"
    }
   },
   "outputs": [
    {
     "data": {
      "text/plain": [
       "array([1, 2, 3])"
      ]
     },
     "execution_count": 33,
     "metadata": {},
     "output_type": "execute_result"
    }
   ],
   "source": [
    "a"
   ]
  },
  {
   "cell_type": "code",
   "execution_count": 34,
   "metadata": {
    "pycharm": {
     "name": "#%%\n"
    }
   },
   "outputs": [],
   "source": [
    "b = np.array([[1,2,3],[2,3,4]])"
   ]
  },
  {
   "cell_type": "code",
   "execution_count": 35,
   "metadata": {
    "pycharm": {
     "name": "#%%\n"
    }
   },
   "outputs": [
    {
     "data": {
      "text/plain": [
       "array([[1, 2, 3],\n",
       "       [2, 3, 4]])"
      ]
     },
     "execution_count": 35,
     "metadata": {},
     "output_type": "execute_result"
    }
   ],
   "source": [
    "b"
   ]
  },
  {
   "cell_type": "code",
   "execution_count": 36,
   "metadata": {
    "pycharm": {
     "name": "#%%\n"
    }
   },
   "outputs": [],
   "source": [
    "c = np.array([[[1,2,3],[2,3,4]],[[3,4,5],[4,5,6]]])"
   ]
  },
  {
   "cell_type": "code",
   "execution_count": 37,
   "metadata": {
    "pycharm": {
     "name": "#%%\n"
    }
   },
   "outputs": [
    {
     "data": {
      "text/plain": [
       "array([[[1, 2, 3],\n",
       "        [2, 3, 4]],\n",
       "\n",
       "       [[3, 4, 5],\n",
       "        [4, 5, 6]]])"
      ]
     },
     "execution_count": 37,
     "metadata": {},
     "output_type": "execute_result"
    }
   ],
   "source": [
    "c"
   ]
  },
  {
   "cell_type": "code",
   "execution_count": 38,
   "metadata": {
    "pycharm": {
     "name": "#%%\n"
    }
   },
   "outputs": [
    {
     "data": {
      "text/plain": [
       "(3,)"
      ]
     },
     "execution_count": 38,
     "metadata": {},
     "output_type": "execute_result"
    }
   ],
   "source": [
    "a.shape"
   ]
  },
  {
   "cell_type": "code",
   "execution_count": 39,
   "metadata": {
    "pycharm": {
     "name": "#%%\n"
    }
   },
   "outputs": [
    {
     "data": {
      "text/plain": [
       "(2, 3)"
      ]
     },
     "execution_count": 39,
     "metadata": {},
     "output_type": "execute_result"
    }
   ],
   "source": [
    "b.shape"
   ]
  },
  {
   "cell_type": "code",
   "execution_count": 40,
   "metadata": {
    "pycharm": {
     "name": "#%%\n"
    }
   },
   "outputs": [
    {
     "data": {
      "text/plain": [
       "(2, 2, 3)"
      ]
     },
     "execution_count": 40,
     "metadata": {},
     "output_type": "execute_result"
    }
   ],
   "source": [
    "c.shape"
   ]
  },
  {
   "cell_type": "code",
   "execution_count": 41,
   "metadata": {
    "pycharm": {
     "name": "#%%\n"
    }
   },
   "outputs": [
    {
     "data": {
      "text/plain": [
       "3"
      ]
     },
     "execution_count": 41,
     "metadata": {},
     "output_type": "execute_result"
    }
   ],
   "source": [
    "c.ndim"
   ]
  },
  {
   "cell_type": "code",
   "execution_count": 20,
   "metadata": {
    "pycharm": {
     "name": "#%%\n"
    }
   },
   "outputs": [
    {
     "data": {
      "text/plain": [
       "dtype('int32')"
      ]
     },
     "execution_count": 20,
     "metadata": {},
     "output_type": "execute_result"
    }
   ],
   "source": [
    "a.dtype"
   ]
  },
  {
   "cell_type": "code",
   "execution_count": 21,
   "metadata": {
    "pycharm": {
     "name": "#%%\n"
    }
   },
   "outputs": [],
   "source": [
    "d = np.array([1,2,3], dtype=np.float32)"
   ]
  },
  {
   "cell_type": "code",
   "execution_count": 22,
   "metadata": {
    "pycharm": {
     "name": "#%%\n"
    }
   },
   "outputs": [
    {
     "data": {
      "text/plain": [
       "array([1., 2., 3.], dtype=float32)"
      ]
     },
     "execution_count": 22,
     "metadata": {},
     "output_type": "execute_result"
    }
   ],
   "source": [
    "d"
   ]
  },
  {
   "cell_type": "code",
   "execution_count": 23,
   "metadata": {
    "pycharm": {
     "name": "#%%\n"
    }
   },
   "outputs": [
    {
     "data": {
      "text/plain": [
       "array([1, 2, 3])"
      ]
     },
     "execution_count": 23,
     "metadata": {},
     "output_type": "execute_result"
    }
   ],
   "source": [
    "a"
   ]
  },
  {
   "cell_type": "markdown",
   "metadata": {
    "pycharm": {
     "name": "#%% md\n"
    }
   },
   "source": [
    "# ndarray的类型"
   ]
  },
  {
   "cell_type": "code",
   "execution_count": 24,
   "metadata": {
    "pycharm": {
     "name": "#%%\n"
    }
   },
   "outputs": [
    {
     "data": {
      "text/plain": [
       "dtype('float32')"
      ]
     },
     "execution_count": 24,
     "metadata": {},
     "output_type": "execute_result"
    }
   ],
   "source": [
    "d.dtype"
   ]
  },
  {
   "cell_type": "code",
   "execution_count": 25,
   "metadata": {
    "pycharm": {
     "name": "#%%\n"
    }
   },
   "outputs": [],
   "source": [
    "e = np.array([\"I\", \"love\", \"python\"], dtype = np.string_)"
   ]
  },
  {
   "cell_type": "code",
   "execution_count": 26,
   "metadata": {
    "pycharm": {
     "name": "#%%\n"
    }
   },
   "outputs": [
    {
     "data": {
      "text/plain": [
       "array([b'I', b'love', b'python'], dtype='|S6')"
      ]
     },
     "execution_count": 26,
     "metadata": {},
     "output_type": "execute_result"
    }
   ],
   "source": [
    "e"
   ]
  },
  {
   "cell_type": "code",
   "execution_count": 8,
   "metadata": {
    "pycharm": {
     "name": "#%%\n"
    }
   },
   "outputs": [
    {
     "name": "stdout",
     "output_type": "stream",
     "text": [
      "[[80 89 86 67 79]\n",
      " [78 97 89 67 81]\n",
      " [90 94 78 67 74]\n",
      " [91 91 90 67 69]\n",
      " [76 87 75 67 86]\n",
      " [70 79 84 67 84]\n",
      " [94 92 93 67 64]\n",
      " [86 85 83 67 80]]\n",
      "(8, 5)\n",
      "2\n",
      "40\n",
      "4\n",
      "int32\n"
     ]
    }
   ],
   "source": [
    "import numpy as np\n",
    "\n",
    "# 创建\n",
    "score = np.array([[80, 89, 86, 67, 79],\n",
    "                  [78, 97, 89, 67, 81],\n",
    "                  [90, 94, 78, 67, 74],\n",
    "                  [91, 91, 90, 67, 69],\n",
    "                  [76, 87, 75, 67, 86],\n",
    "                  [70, 79, 84, 67, 84],\n",
    "                  [94, 92, 93, 67, 64],\n",
    "                  [86, 85, 83, 67, 80]])\n",
    "print(score)\n",
    "# [[80 89 86 67 79]\n",
    "#  [78 97 89 67 81]\n",
    "#  [90 94 78 67 74]\n",
    "#  [91 91 90 67 69]\n",
    "#  [76 87 75 67 86]\n",
    "#  [70 79 84 67 84]\n",
    "#  [94 92 93 67 64]\n",
    "#  [86 85 83 67 80]]\n",
    "\n",
    "# 数组维度的元组\n",
    "print(score.shape) # (8, 5)\n",
    "# 数组维数\n",
    "print(score.ndim) # 2\n",
    "#数组中的元素数量\n",
    "print(score.size) # 40\n",
    "# 一个数组元素的长度（字节）\n",
    "print(score.itemsize) #4\n",
    "#数组元素的类型\n",
    "print(score.dtype) # int32"
   ]
  },
  {
   "cell_type": "code",
   "execution_count": 1,
   "outputs": [],
   "source": [
    "import pandas as pd"
   ],
   "metadata": {
    "collapsed": false,
    "pycharm": {
     "name": "#%%\n"
    }
   }
  },
  {
   "cell_type": "code",
   "execution_count": 6,
   "outputs": [],
   "source": [
    "tt = pd.read_csv('D:\\SqlRelation.csv',encoding='GB2312',delimiter=\"\\t\")"
   ],
   "metadata": {
    "collapsed": false,
    "pycharm": {
     "name": "#%%\n"
    }
   }
  },
  {
   "cell_type": "code",
   "execution_count": 7,
   "outputs": [
    {
     "data": {
      "text/plain": "      记录             三元组                                                SQL  \\\n0    9.0      客户-申请-申请主体  SELECT  ln_withdrawal_apply.custid,ln_firminfo...   \n1   10.0      客户-关联业务-业务  SELECT  ln_withdrawal_apply.custid,ln_withdraw...   \n2   11.0    ? 客户-创建人-自然人  SELECT  ln_withdrawal_apply.custid,ln_firminfo...   \n3   12.0      客户-修改人-自然人  SELECT  ln_withdrawal_apply.custid,ln_firminfo...   \n4   13.0  征信主体―申请/使用―贷记卡  select id,type,name ,creator,updater,lastupdat...   \n5   14.0  ? 企业股东-关联业务-业务  select ln_enterprise_stockholder.id, ln_withdr...   \n6   15.0    企业股东-创建人-自然人  select ln_enterprise_stockholder.id,ln_enterpr...   \n7   16.0    企业股东-修改人-自然人  select ln_enterprise_stockholder.id,ln_enterpr...   \n8    NaN             NaN                                                NaN   \n9    NaN             NaN                                                NaN   \n10   NaN             NaN                                                NaN   \n11   NaN             NaN                                                NaN   \n12   NaN             NaN                                                NaN   \n13   NaN             NaN                                                NaN   \n14   NaN             NaN                                                NaN   \n15   NaN             NaN                                                NaN   \n16   NaN             NaN                                                NaN   \n17   NaN             NaN                                                NaN   \n18   NaN             NaN                                                NaN   \n19   NaN             NaN                                                NaN   \n\n      HEADENTITY          TAILENTITY  \\\n0       Customer             Subject   \n1       Customer            Business   \n2       Customer       NaturalPerson   \n3       Customer       NaturalPerson   \n4   CreditEntity                 NaN   \n5    Stockholder            Business   \n6    Stockholder       NaturalPerson   \n7    Stockholder       NaturalPerson   \n8            NaN                 NaN   \n9            NaN                 NaN   \n10           NaN                 NaN   \n11           NaN                 NaN   \n12            备注                 NaN   \n13           NaN                 NaN   \n14           NaN             自创客户实体：   \n15           NaN              自创申请主体   \n16           NaN  ? 客户-创建人-自然人：自然人实体   \n17           NaN    客户-修改人-自然人：自然人实体   \n18           NaN  企业股东-创建人-自然人：自然人实体   \n19           NaN  企业股东-修改人-自然人：自然人实体   \n\n                                         RELATIONNAME  \\\n0                                                  申请   \n1                                                关联业务   \n2                                                 创建人   \n3                                                 修改人   \n4                                               申请/使用   \n5                                                关联业务   \n6                                                 创建人   \n7                                                 修改人   \n8                                                 NaN   \n9                                                 NaN   \n10                                                NaN   \n11                                                NaN   \n12  黄色标记为自创实体，主要是自然人和申请主体以及客户实体在实体表中没有，其tkey和taile...   \n13                        红色部分为贷记卡实体缺失，没有找到贷记卡实体的唯一标志   \n14  SELECT  ln_withdrawal_apply.custid,ln_firminfo...   \n15  SELECT  ln_firminfo_snapshot.subjectcanumber,s...   \n16  SELECT  ln_firminfo_snapshot.creatorid,ln_firm...   \n17  SELECT  ln_firminfo_snapshot.updaterid,ln_firm...   \n18  select ln_enterprise_stockholder.creatorid,ln_...   \n19  select ln_enterprise_stockholder.updaterid,ln_...   \n\n                          HKEY                                  TKEY  \\\n0   ln_withdrawal_apply.custid  ln_firminfo_snapshot.subjectcanumber   \n1   ln_withdrawal_apply.custid                           ApplyUserID   \n2   ln_withdrawal_apply.custid        ln_firminfo_snapshot.creatorid   \n3   ln_withdrawal_apply.custid        ln_firminfo_snapshot.updaterid   \n4              CreditEntity_ID                                   NaN   \n5               Stockholder_ID                           ApplyUserID   \n6               Stockholder_ID   ln_enterprise_stockholder.creatorid   \n7               Stockholder_ID   ln_enterprise_stockholder.updaterid   \n8                          NaN                                   NaN   \n9                          NaN                                   NaN   \n10                         NaN                                   NaN   \n11                         NaN                                   NaN   \n12                         NaN                                   NaN   \n13                         NaN                                   NaN   \n14                         NaN                                   NaN   \n15                   申请主体主键有空值                                   NaN   \n16                         NaN                                   NaN   \n17                       主键有空值                                   NaN   \n18                         NaN                                   NaN   \n19                       主键有空值                                   NaN   \n\n                                                   备注  \n0   申请主体为自创实体，客户也为自创实体，客户ln_firminfo_snapshot.subj...  \n1                                                 NaN  \n2                                            自然人为自创实体  \n3                                            自然人为自创实体  \n4                                  贷记卡实体缺失，无贷记卡实体唯一标识  \n5                                                 NaN  \n6                                            自然人为自创实体  \n7                                            自然人为自创实体  \n8                                                 NaN  \n9                                                 NaN  \n10                                                NaN  \n11                                                NaN  \n12                                                NaN  \n13                                                NaN  \n14                                                NaN  \n15                                                NaN  \n16                                                NaN  \n17                                                NaN  \n18                                                NaN  \n19                                                NaN  ",
      "text/html": "<div>\n<style scoped>\n    .dataframe tbody tr th:only-of-type {\n        vertical-align: middle;\n    }\n\n    .dataframe tbody tr th {\n        vertical-align: top;\n    }\n\n    .dataframe thead th {\n        text-align: right;\n    }\n</style>\n<table border=\"1\" class=\"dataframe\">\n  <thead>\n    <tr style=\"text-align: right;\">\n      <th></th>\n      <th>记录</th>\n      <th>三元组</th>\n      <th>SQL</th>\n      <th>HEADENTITY</th>\n      <th>TAILENTITY</th>\n      <th>RELATIONNAME</th>\n      <th>HKEY</th>\n      <th>TKEY</th>\n      <th>备注</th>\n    </tr>\n  </thead>\n  <tbody>\n    <tr>\n      <th>0</th>\n      <td>9.0</td>\n      <td>客户-申请-申请主体</td>\n      <td>SELECT  ln_withdrawal_apply.custid,ln_firminfo...</td>\n      <td>Customer</td>\n      <td>Subject</td>\n      <td>申请</td>\n      <td>ln_withdrawal_apply.custid</td>\n      <td>ln_firminfo_snapshot.subjectcanumber</td>\n      <td>申请主体为自创实体，客户也为自创实体，客户ln_firminfo_snapshot.subj...</td>\n    </tr>\n    <tr>\n      <th>1</th>\n      <td>10.0</td>\n      <td>客户-关联业务-业务</td>\n      <td>SELECT  ln_withdrawal_apply.custid,ln_withdraw...</td>\n      <td>Customer</td>\n      <td>Business</td>\n      <td>关联业务</td>\n      <td>ln_withdrawal_apply.custid</td>\n      <td>ApplyUserID</td>\n      <td>NaN</td>\n    </tr>\n    <tr>\n      <th>2</th>\n      <td>11.0</td>\n      <td>? 客户-创建人-自然人</td>\n      <td>SELECT  ln_withdrawal_apply.custid,ln_firminfo...</td>\n      <td>Customer</td>\n      <td>NaturalPerson</td>\n      <td>创建人</td>\n      <td>ln_withdrawal_apply.custid</td>\n      <td>ln_firminfo_snapshot.creatorid</td>\n      <td>自然人为自创实体</td>\n    </tr>\n    <tr>\n      <th>3</th>\n      <td>12.0</td>\n      <td>客户-修改人-自然人</td>\n      <td>SELECT  ln_withdrawal_apply.custid,ln_firminfo...</td>\n      <td>Customer</td>\n      <td>NaturalPerson</td>\n      <td>修改人</td>\n      <td>ln_withdrawal_apply.custid</td>\n      <td>ln_firminfo_snapshot.updaterid</td>\n      <td>自然人为自创实体</td>\n    </tr>\n    <tr>\n      <th>4</th>\n      <td>13.0</td>\n      <td>征信主体―申请/使用―贷记卡</td>\n      <td>select id,type,name ,creator,updater,lastupdat...</td>\n      <td>CreditEntity</td>\n      <td>NaN</td>\n      <td>申请/使用</td>\n      <td>CreditEntity_ID</td>\n      <td>NaN</td>\n      <td>贷记卡实体缺失，无贷记卡实体唯一标识</td>\n    </tr>\n    <tr>\n      <th>5</th>\n      <td>14.0</td>\n      <td>? 企业股东-关联业务-业务</td>\n      <td>select ln_enterprise_stockholder.id, ln_withdr...</td>\n      <td>Stockholder</td>\n      <td>Business</td>\n      <td>关联业务</td>\n      <td>Stockholder_ID</td>\n      <td>ApplyUserID</td>\n      <td>NaN</td>\n    </tr>\n    <tr>\n      <th>6</th>\n      <td>15.0</td>\n      <td>企业股东-创建人-自然人</td>\n      <td>select ln_enterprise_stockholder.id,ln_enterpr...</td>\n      <td>Stockholder</td>\n      <td>NaturalPerson</td>\n      <td>创建人</td>\n      <td>Stockholder_ID</td>\n      <td>ln_enterprise_stockholder.creatorid</td>\n      <td>自然人为自创实体</td>\n    </tr>\n    <tr>\n      <th>7</th>\n      <td>16.0</td>\n      <td>企业股东-修改人-自然人</td>\n      <td>select ln_enterprise_stockholder.id,ln_enterpr...</td>\n      <td>Stockholder</td>\n      <td>NaturalPerson</td>\n      <td>修改人</td>\n      <td>Stockholder_ID</td>\n      <td>ln_enterprise_stockholder.updaterid</td>\n      <td>自然人为自创实体</td>\n    </tr>\n    <tr>\n      <th>8</th>\n      <td>NaN</td>\n      <td>NaN</td>\n      <td>NaN</td>\n      <td>NaN</td>\n      <td>NaN</td>\n      <td>NaN</td>\n      <td>NaN</td>\n      <td>NaN</td>\n      <td>NaN</td>\n    </tr>\n    <tr>\n      <th>9</th>\n      <td>NaN</td>\n      <td>NaN</td>\n      <td>NaN</td>\n      <td>NaN</td>\n      <td>NaN</td>\n      <td>NaN</td>\n      <td>NaN</td>\n      <td>NaN</td>\n      <td>NaN</td>\n    </tr>\n    <tr>\n      <th>10</th>\n      <td>NaN</td>\n      <td>NaN</td>\n      <td>NaN</td>\n      <td>NaN</td>\n      <td>NaN</td>\n      <td>NaN</td>\n      <td>NaN</td>\n      <td>NaN</td>\n      <td>NaN</td>\n    </tr>\n    <tr>\n      <th>11</th>\n      <td>NaN</td>\n      <td>NaN</td>\n      <td>NaN</td>\n      <td>NaN</td>\n      <td>NaN</td>\n      <td>NaN</td>\n      <td>NaN</td>\n      <td>NaN</td>\n      <td>NaN</td>\n    </tr>\n    <tr>\n      <th>12</th>\n      <td>NaN</td>\n      <td>NaN</td>\n      <td>NaN</td>\n      <td>备注</td>\n      <td>NaN</td>\n      <td>黄色标记为自创实体，主要是自然人和申请主体以及客户实体在实体表中没有，其tkey和taile...</td>\n      <td>NaN</td>\n      <td>NaN</td>\n      <td>NaN</td>\n    </tr>\n    <tr>\n      <th>13</th>\n      <td>NaN</td>\n      <td>NaN</td>\n      <td>NaN</td>\n      <td>NaN</td>\n      <td>NaN</td>\n      <td>红色部分为贷记卡实体缺失，没有找到贷记卡实体的唯一标志</td>\n      <td>NaN</td>\n      <td>NaN</td>\n      <td>NaN</td>\n    </tr>\n    <tr>\n      <th>14</th>\n      <td>NaN</td>\n      <td>NaN</td>\n      <td>NaN</td>\n      <td>NaN</td>\n      <td>自创客户实体：</td>\n      <td>SELECT  ln_withdrawal_apply.custid,ln_firminfo...</td>\n      <td>NaN</td>\n      <td>NaN</td>\n      <td>NaN</td>\n    </tr>\n    <tr>\n      <th>15</th>\n      <td>NaN</td>\n      <td>NaN</td>\n      <td>NaN</td>\n      <td>NaN</td>\n      <td>自创申请主体</td>\n      <td>SELECT  ln_firminfo_snapshot.subjectcanumber,s...</td>\n      <td>申请主体主键有空值</td>\n      <td>NaN</td>\n      <td>NaN</td>\n    </tr>\n    <tr>\n      <th>16</th>\n      <td>NaN</td>\n      <td>NaN</td>\n      <td>NaN</td>\n      <td>NaN</td>\n      <td>? 客户-创建人-自然人：自然人实体</td>\n      <td>SELECT  ln_firminfo_snapshot.creatorid,ln_firm...</td>\n      <td>NaN</td>\n      <td>NaN</td>\n      <td>NaN</td>\n    </tr>\n    <tr>\n      <th>17</th>\n      <td>NaN</td>\n      <td>NaN</td>\n      <td>NaN</td>\n      <td>NaN</td>\n      <td>客户-修改人-自然人：自然人实体</td>\n      <td>SELECT  ln_firminfo_snapshot.updaterid,ln_firm...</td>\n      <td>主键有空值</td>\n      <td>NaN</td>\n      <td>NaN</td>\n    </tr>\n    <tr>\n      <th>18</th>\n      <td>NaN</td>\n      <td>NaN</td>\n      <td>NaN</td>\n      <td>NaN</td>\n      <td>企业股东-创建人-自然人：自然人实体</td>\n      <td>select ln_enterprise_stockholder.creatorid,ln_...</td>\n      <td>NaN</td>\n      <td>NaN</td>\n      <td>NaN</td>\n    </tr>\n    <tr>\n      <th>19</th>\n      <td>NaN</td>\n      <td>NaN</td>\n      <td>NaN</td>\n      <td>NaN</td>\n      <td>企业股东-修改人-自然人：自然人实体</td>\n      <td>select ln_enterprise_stockholder.updaterid,ln_...</td>\n      <td>主键有空值</td>\n      <td>NaN</td>\n      <td>NaN</td>\n    </tr>\n  </tbody>\n</table>\n</div>"
     },
     "execution_count": 7,
     "metadata": {},
     "output_type": "execute_result"
    }
   ],
   "source": [
    "tt"
   ],
   "metadata": {
    "collapsed": false,
    "pycharm": {
     "name": "#%%\n"
    }
   }
  },
  {
   "cell_type": "code",
   "execution_count": 8,
   "outputs": [],
   "source": [
    "tt.to_csv('D:/yjz.csv',encoding='GB2312')"
   ],
   "metadata": {
    "collapsed": false,
    "pycharm": {
     "name": "#%%\n"
    }
   }
  },
  {
   "cell_type": "code",
   "execution_count": 9,
   "outputs": [],
   "source": [
    "tt.to_excel('D:/yjz123.xlsx')"
   ],
   "metadata": {
    "collapsed": false,
    "pycharm": {
     "name": "#%%\n"
    }
   }
  },
  {
   "cell_type": "code",
   "execution_count": null,
   "outputs": [],
   "source": [],
   "metadata": {
    "collapsed": false,
    "pycharm": {
     "name": "#%%\n"
    }
   }
  }
 ],
 "metadata": {
  "kernelspec": {
   "display_name": "Python 3 (ipykernel)",
   "language": "python",
   "name": "python3"
  },
  "language_info": {
   "codemirror_mode": {
    "name": "ipython",
    "version": 3
   },
   "file_extension": ".py",
   "mimetype": "text/x-python",
   "name": "python",
   "nbconvert_exporter": "python",
   "pygments_lexer": "ipython3",
   "version": "3.9.7"
  },
  "toc": {
   "base_numbering": 1,
   "nav_menu": {},
   "number_sections": true,
   "sideBar": true,
   "skip_h1_title": false,
   "title_cell": "Table of Contents",
   "title_sidebar": "Contents",
   "toc_cell": false,
   "toc_position": {},
   "toc_section_display": true,
   "toc_window_display": false
  }
 },
 "nbformat": 4,
 "nbformat_minor": 2
}