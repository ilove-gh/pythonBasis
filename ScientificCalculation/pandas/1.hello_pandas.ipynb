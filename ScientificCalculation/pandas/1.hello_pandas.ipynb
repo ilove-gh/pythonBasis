{
 "cells": [
  {
   "cell_type": "code",
   "execution_count": 2,
   "metadata": {},
   "outputs": [],
   "source": [
    "import pandas as pd\n",
    "import numpy as np"
   ]
  },
  {
   "cell_type": "markdown",
   "metadata": {},
   "source": [
    "# pandas案例导入"
   ]
  },
  {
   "cell_type": "code",
   "execution_count": 3,
   "metadata": {},
   "outputs": [],
   "source": [
    "stock_change = np.random.normal(0, 1, (10, 5))"
   ]
  },
  {
   "cell_type": "code",
   "execution_count": 4,
   "metadata": {},
   "outputs": [
    {
     "data": {
      "text/plain": [
       "array([[ 0.72455213, -0.55197053,  0.14968459,  2.10203877, -0.35704243],\n",
       "       [ 1.51449272, -1.01670173,  2.47426194,  1.90482948, -0.14937936],\n",
       "       [ 1.54082579, -0.59384168,  0.68835082, -0.08637503, -0.74575723],\n",
       "       [-0.89002436,  0.42222628,  0.09177474, -0.08150815,  2.29722099],\n",
       "       [-1.24582423, -2.03447035,  0.86399373, -0.58584514,  0.91124687],\n",
       "       [-0.11204875, -0.42721468,  0.6869972 , -0.95331018,  1.70683535],\n",
       "       [ 0.01222896, -1.76543205, -1.01863175, -0.08070972, -1.57987936],\n",
       "       [-0.40872634,  1.1841661 , -0.55080283, -0.03962603, -0.39539714],\n",
       "       [ 0.46211836,  0.06804112, -0.1206769 , -1.67268873, -0.04697773],\n",
       "       [ 0.47121349,  0.17117592,  1.5188797 ,  0.98378977,  1.14318528]])"
      ]
     },
     "execution_count": 4,
     "metadata": {},
     "output_type": "execute_result"
    }
   ],
   "source": [
    "stock_change"
   ]
  },
  {
   "cell_type": "code",
   "execution_count": 6,
   "metadata": {},
   "outputs": [],
   "source": [
    "stock_rise = pd.DataFrame(stock_change)"
   ]
  },
  {
   "cell_type": "code",
   "execution_count": 7,
   "metadata": {},
   "outputs": [
    {
     "data": {
      "text/html": [
       "<div>\n",
       "<style>\n",
       "    .dataframe thead tr:only-child th {\n",
       "        text-align: right;\n",
       "    }\n",
       "\n",
       "    .dataframe thead th {\n",
       "        text-align: left;\n",
       "    }\n",
       "\n",
       "    .dataframe tbody tr th {\n",
       "        vertical-align: top;\n",
       "    }\n",
       "</style>\n",
       "<table border=\"1\" class=\"dataframe\">\n",
       "  <thead>\n",
       "    <tr style=\"text-align: right;\">\n",
       "      <th></th>\n",
       "      <th>0</th>\n",
       "      <th>1</th>\n",
       "      <th>2</th>\n",
       "      <th>3</th>\n",
       "      <th>4</th>\n",
       "    </tr>\n",
       "  </thead>\n",
       "  <tbody>\n",
       "    <tr>\n",
       "      <th>0</th>\n",
       "      <td>0.724552</td>\n",
       "      <td>-0.551971</td>\n",
       "      <td>0.149685</td>\n",
       "      <td>2.102039</td>\n",
       "      <td>-0.357042</td>\n",
       "    </tr>\n",
       "    <tr>\n",
       "      <th>1</th>\n",
       "      <td>1.514493</td>\n",
       "      <td>-1.016702</td>\n",
       "      <td>2.474262</td>\n",
       "      <td>1.904829</td>\n",
       "      <td>-0.149379</td>\n",
       "    </tr>\n",
       "    <tr>\n",
       "      <th>2</th>\n",
       "      <td>1.540826</td>\n",
       "      <td>-0.593842</td>\n",
       "      <td>0.688351</td>\n",
       "      <td>-0.086375</td>\n",
       "      <td>-0.745757</td>\n",
       "    </tr>\n",
       "    <tr>\n",
       "      <th>3</th>\n",
       "      <td>-0.890024</td>\n",
       "      <td>0.422226</td>\n",
       "      <td>0.091775</td>\n",
       "      <td>-0.081508</td>\n",
       "      <td>2.297221</td>\n",
       "    </tr>\n",
       "    <tr>\n",
       "      <th>4</th>\n",
       "      <td>-1.245824</td>\n",
       "      <td>-2.034470</td>\n",
       "      <td>0.863994</td>\n",
       "      <td>-0.585845</td>\n",
       "      <td>0.911247</td>\n",
       "    </tr>\n",
       "    <tr>\n",
       "      <th>5</th>\n",
       "      <td>-0.112049</td>\n",
       "      <td>-0.427215</td>\n",
       "      <td>0.686997</td>\n",
       "      <td>-0.953310</td>\n",
       "      <td>1.706835</td>\n",
       "    </tr>\n",
       "    <tr>\n",
       "      <th>6</th>\n",
       "      <td>0.012229</td>\n",
       "      <td>-1.765432</td>\n",
       "      <td>-1.018632</td>\n",
       "      <td>-0.080710</td>\n",
       "      <td>-1.579879</td>\n",
       "    </tr>\n",
       "    <tr>\n",
       "      <th>7</th>\n",
       "      <td>-0.408726</td>\n",
       "      <td>1.184166</td>\n",
       "      <td>-0.550803</td>\n",
       "      <td>-0.039626</td>\n",
       "      <td>-0.395397</td>\n",
       "    </tr>\n",
       "    <tr>\n",
       "      <th>8</th>\n",
       "      <td>0.462118</td>\n",
       "      <td>0.068041</td>\n",
       "      <td>-0.120677</td>\n",
       "      <td>-1.672689</td>\n",
       "      <td>-0.046978</td>\n",
       "    </tr>\n",
       "    <tr>\n",
       "      <th>9</th>\n",
       "      <td>0.471213</td>\n",
       "      <td>0.171176</td>\n",
       "      <td>1.518880</td>\n",
       "      <td>0.983790</td>\n",
       "      <td>1.143185</td>\n",
       "    </tr>\n",
       "  </tbody>\n",
       "</table>\n",
       "</div>"
      ],
      "text/plain": [
       "          0         1         2         3         4\n",
       "0  0.724552 -0.551971  0.149685  2.102039 -0.357042\n",
       "1  1.514493 -1.016702  2.474262  1.904829 -0.149379\n",
       "2  1.540826 -0.593842  0.688351 -0.086375 -0.745757\n",
       "3 -0.890024  0.422226  0.091775 -0.081508  2.297221\n",
       "4 -1.245824 -2.034470  0.863994 -0.585845  0.911247\n",
       "5 -0.112049 -0.427215  0.686997 -0.953310  1.706835\n",
       "6  0.012229 -1.765432 -1.018632 -0.080710 -1.579879\n",
       "7 -0.408726  1.184166 -0.550803 -0.039626 -0.395397\n",
       "8  0.462118  0.068041 -0.120677 -1.672689 -0.046978\n",
       "9  0.471213  0.171176  1.518880  0.983790  1.143185"
      ]
     },
     "execution_count": 7,
     "metadata": {},
     "output_type": "execute_result"
    }
   ],
   "source": [
    "stock_rise"
   ]
  },
  {
   "cell_type": "code",
   "execution_count": 11,
   "metadata": {},
   "outputs": [
    {
     "data": {
      "text/plain": [
       "10"
      ]
     },
     "execution_count": 11,
     "metadata": {},
     "output_type": "execute_result"
    }
   ],
   "source": [
    "stock_rise.shape[0]"
   ]
  },
  {
   "cell_type": "code",
   "execution_count": 12,
   "metadata": {},
   "outputs": [],
   "source": [
    "stock_code = [\"股票{}\".format(i+1) for i in range(stock_rise.shape[0])]"
   ]
  },
  {
   "cell_type": "code",
   "execution_count": 13,
   "metadata": {},
   "outputs": [
    {
     "data": {
      "text/plain": [
       "['股票1', '股票2', '股票3', '股票4', '股票5', '股票6', '股票7', '股票8', '股票9', '股票10']"
      ]
     },
     "execution_count": 13,
     "metadata": {},
     "output_type": "execute_result"
    }
   ],
   "source": [
    "stock_code"
   ]
  },
  {
   "cell_type": "code",
   "execution_count": 16,
   "metadata": {},
   "outputs": [
    {
     "data": {
      "text/html": [
       "<div>\n",
       "<style>\n",
       "    .dataframe thead tr:only-child th {\n",
       "        text-align: right;\n",
       "    }\n",
       "\n",
       "    .dataframe thead th {\n",
       "        text-align: left;\n",
       "    }\n",
       "\n",
       "    .dataframe tbody tr th {\n",
       "        vertical-align: top;\n",
       "    }\n",
       "</style>\n",
       "<table border=\"1\" class=\"dataframe\">\n",
       "  <thead>\n",
       "    <tr style=\"text-align: right;\">\n",
       "      <th></th>\n",
       "      <th>0</th>\n",
       "      <th>1</th>\n",
       "      <th>2</th>\n",
       "      <th>3</th>\n",
       "      <th>4</th>\n",
       "    </tr>\n",
       "  </thead>\n",
       "  <tbody>\n",
       "    <tr>\n",
       "      <th>股票1</th>\n",
       "      <td>0.724552</td>\n",
       "      <td>-0.551971</td>\n",
       "      <td>0.149685</td>\n",
       "      <td>2.102039</td>\n",
       "      <td>-0.357042</td>\n",
       "    </tr>\n",
       "    <tr>\n",
       "      <th>股票2</th>\n",
       "      <td>1.514493</td>\n",
       "      <td>-1.016702</td>\n",
       "      <td>2.474262</td>\n",
       "      <td>1.904829</td>\n",
       "      <td>-0.149379</td>\n",
       "    </tr>\n",
       "    <tr>\n",
       "      <th>股票3</th>\n",
       "      <td>1.540826</td>\n",
       "      <td>-0.593842</td>\n",
       "      <td>0.688351</td>\n",
       "      <td>-0.086375</td>\n",
       "      <td>-0.745757</td>\n",
       "    </tr>\n",
       "    <tr>\n",
       "      <th>股票4</th>\n",
       "      <td>-0.890024</td>\n",
       "      <td>0.422226</td>\n",
       "      <td>0.091775</td>\n",
       "      <td>-0.081508</td>\n",
       "      <td>2.297221</td>\n",
       "    </tr>\n",
       "    <tr>\n",
       "      <th>股票5</th>\n",
       "      <td>-1.245824</td>\n",
       "      <td>-2.034470</td>\n",
       "      <td>0.863994</td>\n",
       "      <td>-0.585845</td>\n",
       "      <td>0.911247</td>\n",
       "    </tr>\n",
       "    <tr>\n",
       "      <th>股票6</th>\n",
       "      <td>-0.112049</td>\n",
       "      <td>-0.427215</td>\n",
       "      <td>0.686997</td>\n",
       "      <td>-0.953310</td>\n",
       "      <td>1.706835</td>\n",
       "    </tr>\n",
       "    <tr>\n",
       "      <th>股票7</th>\n",
       "      <td>0.012229</td>\n",
       "      <td>-1.765432</td>\n",
       "      <td>-1.018632</td>\n",
       "      <td>-0.080710</td>\n",
       "      <td>-1.579879</td>\n",
       "    </tr>\n",
       "    <tr>\n",
       "      <th>股票8</th>\n",
       "      <td>-0.408726</td>\n",
       "      <td>1.184166</td>\n",
       "      <td>-0.550803</td>\n",
       "      <td>-0.039626</td>\n",
       "      <td>-0.395397</td>\n",
       "    </tr>\n",
       "    <tr>\n",
       "      <th>股票9</th>\n",
       "      <td>0.462118</td>\n",
       "      <td>0.068041</td>\n",
       "      <td>-0.120677</td>\n",
       "      <td>-1.672689</td>\n",
       "      <td>-0.046978</td>\n",
       "    </tr>\n",
       "    <tr>\n",
       "      <th>股票10</th>\n",
       "      <td>0.471213</td>\n",
       "      <td>0.171176</td>\n",
       "      <td>1.518880</td>\n",
       "      <td>0.983790</td>\n",
       "      <td>1.143185</td>\n",
       "    </tr>\n",
       "  </tbody>\n",
       "</table>\n",
       "</div>"
      ],
      "text/plain": [
       "             0         1         2         3         4\n",
       "股票1   0.724552 -0.551971  0.149685  2.102039 -0.357042\n",
       "股票2   1.514493 -1.016702  2.474262  1.904829 -0.149379\n",
       "股票3   1.540826 -0.593842  0.688351 -0.086375 -0.745757\n",
       "股票4  -0.890024  0.422226  0.091775 -0.081508  2.297221\n",
       "股票5  -1.245824 -2.034470  0.863994 -0.585845  0.911247\n",
       "股票6  -0.112049 -0.427215  0.686997 -0.953310  1.706835\n",
       "股票7   0.012229 -1.765432 -1.018632 -0.080710 -1.579879\n",
       "股票8  -0.408726  1.184166 -0.550803 -0.039626 -0.395397\n",
       "股票9   0.462118  0.068041 -0.120677 -1.672689 -0.046978\n",
       "股票10  0.471213  0.171176  1.518880  0.983790  1.143185"
      ]
     },
     "execution_count": 16,
     "metadata": {},
     "output_type": "execute_result"
    }
   ],
   "source": [
    "pd.DataFrame(stock_change, index=stock_code)"
   ]
  },
  {
   "cell_type": "code",
   "execution_count": 19,
   "metadata": {},
   "outputs": [],
   "source": [
    "date = pd.date_range(start=\"20190403\", periods=stock_rise.shape[1], freq=\"B\")"
   ]
  },
  {
   "cell_type": "code",
   "execution_count": 20,
   "metadata": {},
   "outputs": [
    {
     "data": {
      "text/plain": [
       "DatetimeIndex(['2019-04-03', '2019-04-04', '2019-04-05', '2019-04-08',\n",
       "               '2019-04-09'],\n",
       "              dtype='datetime64[ns]', freq='B')"
      ]
     },
     "execution_count": 20,
     "metadata": {},
     "output_type": "execute_result"
    }
   ],
   "source": [
    "date"
   ]
  },
  {
   "cell_type": "code",
   "execution_count": 22,
   "metadata": {},
   "outputs": [],
   "source": [
    "stock_c = pd.DataFrame(stock_change, index=stock_code, columns=date)"
   ]
  },
  {
   "cell_type": "markdown",
   "metadata": {},
   "source": [
    "# DataFrame"
   ]
  },
  {
   "cell_type": "code",
   "execution_count": 23,
   "metadata": {},
   "outputs": [
    {
     "data": {
      "text/html": [
       "<div>\n",
       "<style>\n",
       "    .dataframe thead tr:only-child th {\n",
       "        text-align: right;\n",
       "    }\n",
       "\n",
       "    .dataframe thead th {\n",
       "        text-align: left;\n",
       "    }\n",
       "\n",
       "    .dataframe tbody tr th {\n",
       "        vertical-align: top;\n",
       "    }\n",
       "</style>\n",
       "<table border=\"1\" class=\"dataframe\">\n",
       "  <thead>\n",
       "    <tr style=\"text-align: right;\">\n",
       "      <th></th>\n",
       "      <th>2019-04-03 00:00:00</th>\n",
       "      <th>2019-04-04 00:00:00</th>\n",
       "      <th>2019-04-05 00:00:00</th>\n",
       "      <th>2019-04-08 00:00:00</th>\n",
       "      <th>2019-04-09 00:00:00</th>\n",
       "    </tr>\n",
       "  </thead>\n",
       "  <tbody>\n",
       "    <tr>\n",
       "      <th>股票1</th>\n",
       "      <td>0.724552</td>\n",
       "      <td>-0.551971</td>\n",
       "      <td>0.149685</td>\n",
       "      <td>2.102039</td>\n",
       "      <td>-0.357042</td>\n",
       "    </tr>\n",
       "    <tr>\n",
       "      <th>股票2</th>\n",
       "      <td>1.514493</td>\n",
       "      <td>-1.016702</td>\n",
       "      <td>2.474262</td>\n",
       "      <td>1.904829</td>\n",
       "      <td>-0.149379</td>\n",
       "    </tr>\n",
       "    <tr>\n",
       "      <th>股票3</th>\n",
       "      <td>1.540826</td>\n",
       "      <td>-0.593842</td>\n",
       "      <td>0.688351</td>\n",
       "      <td>-0.086375</td>\n",
       "      <td>-0.745757</td>\n",
       "    </tr>\n",
       "    <tr>\n",
       "      <th>股票4</th>\n",
       "      <td>-0.890024</td>\n",
       "      <td>0.422226</td>\n",
       "      <td>0.091775</td>\n",
       "      <td>-0.081508</td>\n",
       "      <td>2.297221</td>\n",
       "    </tr>\n",
       "    <tr>\n",
       "      <th>股票5</th>\n",
       "      <td>-1.245824</td>\n",
       "      <td>-2.034470</td>\n",
       "      <td>0.863994</td>\n",
       "      <td>-0.585845</td>\n",
       "      <td>0.911247</td>\n",
       "    </tr>\n",
       "    <tr>\n",
       "      <th>股票6</th>\n",
       "      <td>-0.112049</td>\n",
       "      <td>-0.427215</td>\n",
       "      <td>0.686997</td>\n",
       "      <td>-0.953310</td>\n",
       "      <td>1.706835</td>\n",
       "    </tr>\n",
       "    <tr>\n",
       "      <th>股票7</th>\n",
       "      <td>0.012229</td>\n",
       "      <td>-1.765432</td>\n",
       "      <td>-1.018632</td>\n",
       "      <td>-0.080710</td>\n",
       "      <td>-1.579879</td>\n",
       "    </tr>\n",
       "    <tr>\n",
       "      <th>股票8</th>\n",
       "      <td>-0.408726</td>\n",
       "      <td>1.184166</td>\n",
       "      <td>-0.550803</td>\n",
       "      <td>-0.039626</td>\n",
       "      <td>-0.395397</td>\n",
       "    </tr>\n",
       "    <tr>\n",
       "      <th>股票9</th>\n",
       "      <td>0.462118</td>\n",
       "      <td>0.068041</td>\n",
       "      <td>-0.120677</td>\n",
       "      <td>-1.672689</td>\n",
       "      <td>-0.046978</td>\n",
       "    </tr>\n",
       "    <tr>\n",
       "      <th>股票10</th>\n",
       "      <td>0.471213</td>\n",
       "      <td>0.171176</td>\n",
       "      <td>1.518880</td>\n",
       "      <td>0.983790</td>\n",
       "      <td>1.143185</td>\n",
       "    </tr>\n",
       "  </tbody>\n",
       "</table>\n",
       "</div>"
      ],
      "text/plain": [
       "      2019-04-03  2019-04-04  2019-04-05  2019-04-08  2019-04-09\n",
       "股票1     0.724552   -0.551971    0.149685    2.102039   -0.357042\n",
       "股票2     1.514493   -1.016702    2.474262    1.904829   -0.149379\n",
       "股票3     1.540826   -0.593842    0.688351   -0.086375   -0.745757\n",
       "股票4    -0.890024    0.422226    0.091775   -0.081508    2.297221\n",
       "股票5    -1.245824   -2.034470    0.863994   -0.585845    0.911247\n",
       "股票6    -0.112049   -0.427215    0.686997   -0.953310    1.706835\n",
       "股票7     0.012229   -1.765432   -1.018632   -0.080710   -1.579879\n",
       "股票8    -0.408726    1.184166   -0.550803   -0.039626   -0.395397\n",
       "股票9     0.462118    0.068041   -0.120677   -1.672689   -0.046978\n",
       "股票10    0.471213    0.171176    1.518880    0.983790    1.143185"
      ]
     },
     "execution_count": 23,
     "metadata": {},
     "output_type": "execute_result"
    }
   ],
   "source": [
    "stock_c"
   ]
  },
  {
   "cell_type": "code",
   "execution_count": 24,
   "metadata": {},
   "outputs": [
    {
     "data": {
      "text/plain": [
       "(10, 5)"
      ]
     },
     "execution_count": 24,
     "metadata": {},
     "output_type": "execute_result"
    }
   ],
   "source": [
    "stock_c.shape"
   ]
  },
  {
   "cell_type": "code",
   "execution_count": 25,
   "metadata": {},
   "outputs": [
    {
     "data": {
      "text/plain": [
       "Index(['股票1', '股票2', '股票3', '股票4', '股票5', '股票6', '股票7', '股票8', '股票9', '股票10'], dtype='object')"
      ]
     },
     "execution_count": 25,
     "metadata": {},
     "output_type": "execute_result"
    }
   ],
   "source": [
    "stock_c.index"
   ]
  },
  {
   "cell_type": "code",
   "execution_count": 26,
   "metadata": {},
   "outputs": [
    {
     "data": {
      "text/plain": [
       "DatetimeIndex(['2019-04-03', '2019-04-04', '2019-04-05', '2019-04-08',\n",
       "               '2019-04-09'],\n",
       "              dtype='datetime64[ns]', freq='B')"
      ]
     },
     "execution_count": 26,
     "metadata": {},
     "output_type": "execute_result"
    }
   ],
   "source": [
    "stock_c.columns"
   ]
  },
  {
   "cell_type": "code",
   "execution_count": 27,
   "metadata": {},
   "outputs": [
    {
     "data": {
      "text/plain": [
       "array([[ 0.72455213, -0.55197053,  0.14968459,  2.10203877, -0.35704243],\n",
       "       [ 1.51449272, -1.01670173,  2.47426194,  1.90482948, -0.14937936],\n",
       "       [ 1.54082579, -0.59384168,  0.68835082, -0.08637503, -0.74575723],\n",
       "       [-0.89002436,  0.42222628,  0.09177474, -0.08150815,  2.29722099],\n",
       "       [-1.24582423, -2.03447035,  0.86399373, -0.58584514,  0.91124687],\n",
       "       [-0.11204875, -0.42721468,  0.6869972 , -0.95331018,  1.70683535],\n",
       "       [ 0.01222896, -1.76543205, -1.01863175, -0.08070972, -1.57987936],\n",
       "       [-0.40872634,  1.1841661 , -0.55080283, -0.03962603, -0.39539714],\n",
       "       [ 0.46211836,  0.06804112, -0.1206769 , -1.67268873, -0.04697773],\n",
       "       [ 0.47121349,  0.17117592,  1.5188797 ,  0.98378977,  1.14318528]])"
      ]
     },
     "execution_count": 27,
     "metadata": {},
     "output_type": "execute_result"
    }
   ],
   "source": [
    "stock_c.values"
   ]
  },
  {
   "cell_type": "code",
   "execution_count": 28,
   "metadata": {},
   "outputs": [
    {
     "data": {
      "text/html": [
       "<div>\n",
       "<style>\n",
       "    .dataframe thead tr:only-child th {\n",
       "        text-align: right;\n",
       "    }\n",
       "\n",
       "    .dataframe thead th {\n",
       "        text-align: left;\n",
       "    }\n",
       "\n",
       "    .dataframe tbody tr th {\n",
       "        vertical-align: top;\n",
       "    }\n",
       "</style>\n",
       "<table border=\"1\" class=\"dataframe\">\n",
       "  <thead>\n",
       "    <tr style=\"text-align: right;\">\n",
       "      <th></th>\n",
       "      <th>股票1</th>\n",
       "      <th>股票2</th>\n",
       "      <th>股票3</th>\n",
       "      <th>股票4</th>\n",
       "      <th>股票5</th>\n",
       "      <th>股票6</th>\n",
       "      <th>股票7</th>\n",
       "      <th>股票8</th>\n",
       "      <th>股票9</th>\n",
       "      <th>股票10</th>\n",
       "    </tr>\n",
       "  </thead>\n",
       "  <tbody>\n",
       "    <tr>\n",
       "      <th>2019-04-03</th>\n",
       "      <td>0.724552</td>\n",
       "      <td>1.514493</td>\n",
       "      <td>1.540826</td>\n",
       "      <td>-0.890024</td>\n",
       "      <td>-1.245824</td>\n",
       "      <td>-0.112049</td>\n",
       "      <td>0.012229</td>\n",
       "      <td>-0.408726</td>\n",
       "      <td>0.462118</td>\n",
       "      <td>0.471213</td>\n",
       "    </tr>\n",
       "    <tr>\n",
       "      <th>2019-04-04</th>\n",
       "      <td>-0.551971</td>\n",
       "      <td>-1.016702</td>\n",
       "      <td>-0.593842</td>\n",
       "      <td>0.422226</td>\n",
       "      <td>-2.034470</td>\n",
       "      <td>-0.427215</td>\n",
       "      <td>-1.765432</td>\n",
       "      <td>1.184166</td>\n",
       "      <td>0.068041</td>\n",
       "      <td>0.171176</td>\n",
       "    </tr>\n",
       "    <tr>\n",
       "      <th>2019-04-05</th>\n",
       "      <td>0.149685</td>\n",
       "      <td>2.474262</td>\n",
       "      <td>0.688351</td>\n",
       "      <td>0.091775</td>\n",
       "      <td>0.863994</td>\n",
       "      <td>0.686997</td>\n",
       "      <td>-1.018632</td>\n",
       "      <td>-0.550803</td>\n",
       "      <td>-0.120677</td>\n",
       "      <td>1.518880</td>\n",
       "    </tr>\n",
       "    <tr>\n",
       "      <th>2019-04-08</th>\n",
       "      <td>2.102039</td>\n",
       "      <td>1.904829</td>\n",
       "      <td>-0.086375</td>\n",
       "      <td>-0.081508</td>\n",
       "      <td>-0.585845</td>\n",
       "      <td>-0.953310</td>\n",
       "      <td>-0.080710</td>\n",
       "      <td>-0.039626</td>\n",
       "      <td>-1.672689</td>\n",
       "      <td>0.983790</td>\n",
       "    </tr>\n",
       "    <tr>\n",
       "      <th>2019-04-09</th>\n",
       "      <td>-0.357042</td>\n",
       "      <td>-0.149379</td>\n",
       "      <td>-0.745757</td>\n",
       "      <td>2.297221</td>\n",
       "      <td>0.911247</td>\n",
       "      <td>1.706835</td>\n",
       "      <td>-1.579879</td>\n",
       "      <td>-0.395397</td>\n",
       "      <td>-0.046978</td>\n",
       "      <td>1.143185</td>\n",
       "    </tr>\n",
       "  </tbody>\n",
       "</table>\n",
       "</div>"
      ],
      "text/plain": [
       "                 股票1       股票2       股票3       股票4       股票5       股票6  \\\n",
       "2019-04-03  0.724552  1.514493  1.540826 -0.890024 -1.245824 -0.112049   \n",
       "2019-04-04 -0.551971 -1.016702 -0.593842  0.422226 -2.034470 -0.427215   \n",
       "2019-04-05  0.149685  2.474262  0.688351  0.091775  0.863994  0.686997   \n",
       "2019-04-08  2.102039  1.904829 -0.086375 -0.081508 -0.585845 -0.953310   \n",
       "2019-04-09 -0.357042 -0.149379 -0.745757  2.297221  0.911247  1.706835   \n",
       "\n",
       "                 股票7       股票8       股票9      股票10  \n",
       "2019-04-03  0.012229 -0.408726  0.462118  0.471213  \n",
       "2019-04-04 -1.765432  1.184166  0.068041  0.171176  \n",
       "2019-04-05 -1.018632 -0.550803 -0.120677  1.518880  \n",
       "2019-04-08 -0.080710 -0.039626 -1.672689  0.983790  \n",
       "2019-04-09 -1.579879 -0.395397 -0.046978  1.143185  "
      ]
     },
     "execution_count": 28,
     "metadata": {},
     "output_type": "execute_result"
    }
   ],
   "source": [
    "stock_c.T"
   ]
  },
  {
   "cell_type": "code",
   "execution_count": 33,
   "metadata": {},
   "outputs": [
    {
     "data": {
      "text/html": [
       "<div>\n",
       "<style>\n",
       "    .dataframe thead tr:only-child th {\n",
       "        text-align: right;\n",
       "    }\n",
       "\n",
       "    .dataframe thead th {\n",
       "        text-align: left;\n",
       "    }\n",
       "\n",
       "    .dataframe tbody tr th {\n",
       "        vertical-align: top;\n",
       "    }\n",
       "</style>\n",
       "<table border=\"1\" class=\"dataframe\">\n",
       "  <thead>\n",
       "    <tr style=\"text-align: right;\">\n",
       "      <th></th>\n",
       "      <th>2019-04-03 00:00:00</th>\n",
       "      <th>2019-04-04 00:00:00</th>\n",
       "      <th>2019-04-05 00:00:00</th>\n",
       "      <th>2019-04-08 00:00:00</th>\n",
       "      <th>2019-04-09 00:00:00</th>\n",
       "    </tr>\n",
       "  </thead>\n",
       "  <tbody>\n",
       "    <tr>\n",
       "      <th>股票1</th>\n",
       "      <td>0.724552</td>\n",
       "      <td>-0.551971</td>\n",
       "      <td>0.149685</td>\n",
       "      <td>2.102039</td>\n",
       "      <td>-0.357042</td>\n",
       "    </tr>\n",
       "    <tr>\n",
       "      <th>股票2</th>\n",
       "      <td>1.514493</td>\n",
       "      <td>-1.016702</td>\n",
       "      <td>2.474262</td>\n",
       "      <td>1.904829</td>\n",
       "      <td>-0.149379</td>\n",
       "    </tr>\n",
       "    <tr>\n",
       "      <th>股票3</th>\n",
       "      <td>1.540826</td>\n",
       "      <td>-0.593842</td>\n",
       "      <td>0.688351</td>\n",
       "      <td>-0.086375</td>\n",
       "      <td>-0.745757</td>\n",
       "    </tr>\n",
       "    <tr>\n",
       "      <th>股票4</th>\n",
       "      <td>-0.890024</td>\n",
       "      <td>0.422226</td>\n",
       "      <td>0.091775</td>\n",
       "      <td>-0.081508</td>\n",
       "      <td>2.297221</td>\n",
       "    </tr>\n",
       "    <tr>\n",
       "      <th>股票5</th>\n",
       "      <td>-1.245824</td>\n",
       "      <td>-2.034470</td>\n",
       "      <td>0.863994</td>\n",
       "      <td>-0.585845</td>\n",
       "      <td>0.911247</td>\n",
       "    </tr>\n",
       "  </tbody>\n",
       "</table>\n",
       "</div>"
      ],
      "text/plain": [
       "     2019-04-03  2019-04-04  2019-04-05  2019-04-08  2019-04-09\n",
       "股票1    0.724552   -0.551971    0.149685    2.102039   -0.357042\n",
       "股票2    1.514493   -1.016702    2.474262    1.904829   -0.149379\n",
       "股票3    1.540826   -0.593842    0.688351   -0.086375   -0.745757\n",
       "股票4   -0.890024    0.422226    0.091775   -0.081508    2.297221\n",
       "股票5   -1.245824   -2.034470    0.863994   -0.585845    0.911247"
      ]
     },
     "execution_count": 33,
     "metadata": {},
     "output_type": "execute_result"
    }
   ],
   "source": [
    "stock_c.head()"
   ]
  },
  {
   "cell_type": "code",
   "execution_count": 35,
   "metadata": {},
   "outputs": [
    {
     "data": {
      "text/html": [
       "<div>\n",
       "<style>\n",
       "    .dataframe thead tr:only-child th {\n",
       "        text-align: right;\n",
       "    }\n",
       "\n",
       "    .dataframe thead th {\n",
       "        text-align: left;\n",
       "    }\n",
       "\n",
       "    .dataframe tbody tr th {\n",
       "        vertical-align: top;\n",
       "    }\n",
       "</style>\n",
       "<table border=\"1\" class=\"dataframe\">\n",
       "  <thead>\n",
       "    <tr style=\"text-align: right;\">\n",
       "      <th></th>\n",
       "      <th>2019-04-03 00:00:00</th>\n",
       "      <th>2019-04-04 00:00:00</th>\n",
       "      <th>2019-04-05 00:00:00</th>\n",
       "      <th>2019-04-08 00:00:00</th>\n",
       "      <th>2019-04-09 00:00:00</th>\n",
       "    </tr>\n",
       "  </thead>\n",
       "  <tbody>\n",
       "    <tr>\n",
       "      <th>股票8</th>\n",
       "      <td>-0.408726</td>\n",
       "      <td>1.184166</td>\n",
       "      <td>-0.550803</td>\n",
       "      <td>-0.039626</td>\n",
       "      <td>-0.395397</td>\n",
       "    </tr>\n",
       "    <tr>\n",
       "      <th>股票9</th>\n",
       "      <td>0.462118</td>\n",
       "      <td>0.068041</td>\n",
       "      <td>-0.120677</td>\n",
       "      <td>-1.672689</td>\n",
       "      <td>-0.046978</td>\n",
       "    </tr>\n",
       "    <tr>\n",
       "      <th>股票10</th>\n",
       "      <td>0.471213</td>\n",
       "      <td>0.171176</td>\n",
       "      <td>1.518880</td>\n",
       "      <td>0.983790</td>\n",
       "      <td>1.143185</td>\n",
       "    </tr>\n",
       "  </tbody>\n",
       "</table>\n",
       "</div>"
      ],
      "text/plain": [
       "      2019-04-03  2019-04-04  2019-04-05  2019-04-08  2019-04-09\n",
       "股票8    -0.408726    1.184166   -0.550803   -0.039626   -0.395397\n",
       "股票9     0.462118    0.068041   -0.120677   -1.672689   -0.046978\n",
       "股票10    0.471213    0.171176    1.518880    0.983790    1.143185"
      ]
     },
     "execution_count": 35,
     "metadata": {},
     "output_type": "execute_result"
    }
   ],
   "source": [
    "stock_c.tail(3)"
   ]
  },
  {
   "cell_type": "markdown",
   "metadata": {},
   "source": [
    "##  设置索引"
   ]
  },
  {
   "cell_type": "code",
   "execution_count": 36,
   "metadata": {},
   "outputs": [],
   "source": [
    "stock_code = [\"股票__{}\".format(i+1) for i in range(stock_rise.shape[0])]"
   ]
  },
  {
   "cell_type": "code",
   "execution_count": 41,
   "metadata": {},
   "outputs": [],
   "source": [
    "stock_c.index = stock_code"
   ]
  },
  {
   "cell_type": "code",
   "execution_count": 42,
   "metadata": {},
   "outputs": [
    {
     "data": {
      "text/html": [
       "<div>\n",
       "<style>\n",
       "    .dataframe thead tr:only-child th {\n",
       "        text-align: right;\n",
       "    }\n",
       "\n",
       "    .dataframe thead th {\n",
       "        text-align: left;\n",
       "    }\n",
       "\n",
       "    .dataframe tbody tr th {\n",
       "        vertical-align: top;\n",
       "    }\n",
       "</style>\n",
       "<table border=\"1\" class=\"dataframe\">\n",
       "  <thead>\n",
       "    <tr style=\"text-align: right;\">\n",
       "      <th></th>\n",
       "      <th>2019-04-03 00:00:00</th>\n",
       "      <th>2019-04-04 00:00:00</th>\n",
       "      <th>2019-04-05 00:00:00</th>\n",
       "      <th>2019-04-08 00:00:00</th>\n",
       "      <th>2019-04-09 00:00:00</th>\n",
       "    </tr>\n",
       "  </thead>\n",
       "  <tbody>\n",
       "    <tr>\n",
       "      <th>股票__1</th>\n",
       "      <td>0.724552</td>\n",
       "      <td>-0.551971</td>\n",
       "      <td>0.149685</td>\n",
       "      <td>2.102039</td>\n",
       "      <td>-0.357042</td>\n",
       "    </tr>\n",
       "    <tr>\n",
       "      <th>股票__2</th>\n",
       "      <td>1.514493</td>\n",
       "      <td>-1.016702</td>\n",
       "      <td>2.474262</td>\n",
       "      <td>1.904829</td>\n",
       "      <td>-0.149379</td>\n",
       "    </tr>\n",
       "    <tr>\n",
       "      <th>股票__3</th>\n",
       "      <td>1.540826</td>\n",
       "      <td>-0.593842</td>\n",
       "      <td>0.688351</td>\n",
       "      <td>-0.086375</td>\n",
       "      <td>-0.745757</td>\n",
       "    </tr>\n",
       "    <tr>\n",
       "      <th>股票__4</th>\n",
       "      <td>-0.890024</td>\n",
       "      <td>0.422226</td>\n",
       "      <td>0.091775</td>\n",
       "      <td>-0.081508</td>\n",
       "      <td>2.297221</td>\n",
       "    </tr>\n",
       "    <tr>\n",
       "      <th>股票__5</th>\n",
       "      <td>-1.245824</td>\n",
       "      <td>-2.034470</td>\n",
       "      <td>0.863994</td>\n",
       "      <td>-0.585845</td>\n",
       "      <td>0.911247</td>\n",
       "    </tr>\n",
       "    <tr>\n",
       "      <th>股票__6</th>\n",
       "      <td>-0.112049</td>\n",
       "      <td>-0.427215</td>\n",
       "      <td>0.686997</td>\n",
       "      <td>-0.953310</td>\n",
       "      <td>1.706835</td>\n",
       "    </tr>\n",
       "    <tr>\n",
       "      <th>股票__7</th>\n",
       "      <td>0.012229</td>\n",
       "      <td>-1.765432</td>\n",
       "      <td>-1.018632</td>\n",
       "      <td>-0.080710</td>\n",
       "      <td>-1.579879</td>\n",
       "    </tr>\n",
       "    <tr>\n",
       "      <th>股票__8</th>\n",
       "      <td>-0.408726</td>\n",
       "      <td>1.184166</td>\n",
       "      <td>-0.550803</td>\n",
       "      <td>-0.039626</td>\n",
       "      <td>-0.395397</td>\n",
       "    </tr>\n",
       "    <tr>\n",
       "      <th>股票__9</th>\n",
       "      <td>0.462118</td>\n",
       "      <td>0.068041</td>\n",
       "      <td>-0.120677</td>\n",
       "      <td>-1.672689</td>\n",
       "      <td>-0.046978</td>\n",
       "    </tr>\n",
       "    <tr>\n",
       "      <th>股票__10</th>\n",
       "      <td>0.471213</td>\n",
       "      <td>0.171176</td>\n",
       "      <td>1.518880</td>\n",
       "      <td>0.983790</td>\n",
       "      <td>1.143185</td>\n",
       "    </tr>\n",
       "  </tbody>\n",
       "</table>\n",
       "</div>"
      ],
      "text/plain": [
       "        2019-04-03  2019-04-04  2019-04-05  2019-04-08  2019-04-09\n",
       "股票__1     0.724552   -0.551971    0.149685    2.102039   -0.357042\n",
       "股票__2     1.514493   -1.016702    2.474262    1.904829   -0.149379\n",
       "股票__3     1.540826   -0.593842    0.688351   -0.086375   -0.745757\n",
       "股票__4    -0.890024    0.422226    0.091775   -0.081508    2.297221\n",
       "股票__5    -1.245824   -2.034470    0.863994   -0.585845    0.911247\n",
       "股票__6    -0.112049   -0.427215    0.686997   -0.953310    1.706835\n",
       "股票__7     0.012229   -1.765432   -1.018632   -0.080710   -1.579879\n",
       "股票__8    -0.408726    1.184166   -0.550803   -0.039626   -0.395397\n",
       "股票__9     0.462118    0.068041   -0.120677   -1.672689   -0.046978\n",
       "股票__10    0.471213    0.171176    1.518880    0.983790    1.143185"
      ]
     },
     "execution_count": 42,
     "metadata": {},
     "output_type": "execute_result"
    }
   ],
   "source": [
    "stock_c"
   ]
  },
  {
   "cell_type": "code",
   "execution_count": 45,
   "metadata": {},
   "outputs": [],
   "source": [
    "# stock_c.index[3] = \"hahaha\""
   ]
  },
  {
   "cell_type": "markdown",
   "metadata": {},
   "source": [
    "## 重设索引"
   ]
  },
  {
   "cell_type": "code",
   "execution_count": 46,
   "metadata": {},
   "outputs": [
    {
     "data": {
      "text/html": [
       "<div>\n",
       "<style>\n",
       "    .dataframe thead tr:only-child th {\n",
       "        text-align: right;\n",
       "    }\n",
       "\n",
       "    .dataframe thead th {\n",
       "        text-align: left;\n",
       "    }\n",
       "\n",
       "    .dataframe tbody tr th {\n",
       "        vertical-align: top;\n",
       "    }\n",
       "</style>\n",
       "<table border=\"1\" class=\"dataframe\">\n",
       "  <thead>\n",
       "    <tr style=\"text-align: right;\">\n",
       "      <th></th>\n",
       "      <th>index</th>\n",
       "      <th>2019-04-03 00:00:00</th>\n",
       "      <th>2019-04-04 00:00:00</th>\n",
       "      <th>2019-04-05 00:00:00</th>\n",
       "      <th>2019-04-08 00:00:00</th>\n",
       "      <th>2019-04-09 00:00:00</th>\n",
       "    </tr>\n",
       "  </thead>\n",
       "  <tbody>\n",
       "    <tr>\n",
       "      <th>0</th>\n",
       "      <td>股票__1</td>\n",
       "      <td>0.724552</td>\n",
       "      <td>-0.551971</td>\n",
       "      <td>0.149685</td>\n",
       "      <td>2.102039</td>\n",
       "      <td>-0.357042</td>\n",
       "    </tr>\n",
       "    <tr>\n",
       "      <th>1</th>\n",
       "      <td>股票__2</td>\n",
       "      <td>1.514493</td>\n",
       "      <td>-1.016702</td>\n",
       "      <td>2.474262</td>\n",
       "      <td>1.904829</td>\n",
       "      <td>-0.149379</td>\n",
       "    </tr>\n",
       "    <tr>\n",
       "      <th>2</th>\n",
       "      <td>股票__3</td>\n",
       "      <td>1.540826</td>\n",
       "      <td>-0.593842</td>\n",
       "      <td>0.688351</td>\n",
       "      <td>-0.086375</td>\n",
       "      <td>-0.745757</td>\n",
       "    </tr>\n",
       "    <tr>\n",
       "      <th>3</th>\n",
       "      <td>股票__4</td>\n",
       "      <td>-0.890024</td>\n",
       "      <td>0.422226</td>\n",
       "      <td>0.091775</td>\n",
       "      <td>-0.081508</td>\n",
       "      <td>2.297221</td>\n",
       "    </tr>\n",
       "    <tr>\n",
       "      <th>4</th>\n",
       "      <td>股票__5</td>\n",
       "      <td>-1.245824</td>\n",
       "      <td>-2.034470</td>\n",
       "      <td>0.863994</td>\n",
       "      <td>-0.585845</td>\n",
       "      <td>0.911247</td>\n",
       "    </tr>\n",
       "    <tr>\n",
       "      <th>5</th>\n",
       "      <td>股票__6</td>\n",
       "      <td>-0.112049</td>\n",
       "      <td>-0.427215</td>\n",
       "      <td>0.686997</td>\n",
       "      <td>-0.953310</td>\n",
       "      <td>1.706835</td>\n",
       "    </tr>\n",
       "    <tr>\n",
       "      <th>6</th>\n",
       "      <td>股票__7</td>\n",
       "      <td>0.012229</td>\n",
       "      <td>-1.765432</td>\n",
       "      <td>-1.018632</td>\n",
       "      <td>-0.080710</td>\n",
       "      <td>-1.579879</td>\n",
       "    </tr>\n",
       "    <tr>\n",
       "      <th>7</th>\n",
       "      <td>股票__8</td>\n",
       "      <td>-0.408726</td>\n",
       "      <td>1.184166</td>\n",
       "      <td>-0.550803</td>\n",
       "      <td>-0.039626</td>\n",
       "      <td>-0.395397</td>\n",
       "    </tr>\n",
       "    <tr>\n",
       "      <th>8</th>\n",
       "      <td>股票__9</td>\n",
       "      <td>0.462118</td>\n",
       "      <td>0.068041</td>\n",
       "      <td>-0.120677</td>\n",
       "      <td>-1.672689</td>\n",
       "      <td>-0.046978</td>\n",
       "    </tr>\n",
       "    <tr>\n",
       "      <th>9</th>\n",
       "      <td>股票__10</td>\n",
       "      <td>0.471213</td>\n",
       "      <td>0.171176</td>\n",
       "      <td>1.518880</td>\n",
       "      <td>0.983790</td>\n",
       "      <td>1.143185</td>\n",
       "    </tr>\n",
       "  </tbody>\n",
       "</table>\n",
       "</div>"
      ],
      "text/plain": [
       "    index  2019-04-03 00:00:00  2019-04-04 00:00:00  2019-04-05 00:00:00  \\\n",
       "0   股票__1             0.724552            -0.551971             0.149685   \n",
       "1   股票__2             1.514493            -1.016702             2.474262   \n",
       "2   股票__3             1.540826            -0.593842             0.688351   \n",
       "3   股票__4            -0.890024             0.422226             0.091775   \n",
       "4   股票__5            -1.245824            -2.034470             0.863994   \n",
       "5   股票__6            -0.112049            -0.427215             0.686997   \n",
       "6   股票__7             0.012229            -1.765432            -1.018632   \n",
       "7   股票__8            -0.408726             1.184166            -0.550803   \n",
       "8   股票__9             0.462118             0.068041            -0.120677   \n",
       "9  股票__10             0.471213             0.171176             1.518880   \n",
       "\n",
       "   2019-04-08 00:00:00  2019-04-09 00:00:00  \n",
       "0             2.102039            -0.357042  \n",
       "1             1.904829            -0.149379  \n",
       "2            -0.086375            -0.745757  \n",
       "3            -0.081508             2.297221  \n",
       "4            -0.585845             0.911247  \n",
       "5            -0.953310             1.706835  \n",
       "6            -0.080710            -1.579879  \n",
       "7            -0.039626            -0.395397  \n",
       "8            -1.672689            -0.046978  \n",
       "9             0.983790             1.143185  "
      ]
     },
     "execution_count": 46,
     "metadata": {},
     "output_type": "execute_result"
    }
   ],
   "source": [
    "stock_c.reset_index()"
   ]
  },
  {
   "cell_type": "code",
   "execution_count": 47,
   "metadata": {},
   "outputs": [
    {
     "data": {
      "text/html": [
       "<div>\n",
       "<style>\n",
       "    .dataframe thead tr:only-child th {\n",
       "        text-align: right;\n",
       "    }\n",
       "\n",
       "    .dataframe thead th {\n",
       "        text-align: left;\n",
       "    }\n",
       "\n",
       "    .dataframe tbody tr th {\n",
       "        vertical-align: top;\n",
       "    }\n",
       "</style>\n",
       "<table border=\"1\" class=\"dataframe\">\n",
       "  <thead>\n",
       "    <tr style=\"text-align: right;\">\n",
       "      <th></th>\n",
       "      <th>2019-04-03 00:00:00</th>\n",
       "      <th>2019-04-04 00:00:00</th>\n",
       "      <th>2019-04-05 00:00:00</th>\n",
       "      <th>2019-04-08 00:00:00</th>\n",
       "      <th>2019-04-09 00:00:00</th>\n",
       "    </tr>\n",
       "  </thead>\n",
       "  <tbody>\n",
       "    <tr>\n",
       "      <th>0</th>\n",
       "      <td>0.724552</td>\n",
       "      <td>-0.551971</td>\n",
       "      <td>0.149685</td>\n",
       "      <td>2.102039</td>\n",
       "      <td>-0.357042</td>\n",
       "    </tr>\n",
       "    <tr>\n",
       "      <th>1</th>\n",
       "      <td>1.514493</td>\n",
       "      <td>-1.016702</td>\n",
       "      <td>2.474262</td>\n",
       "      <td>1.904829</td>\n",
       "      <td>-0.149379</td>\n",
       "    </tr>\n",
       "    <tr>\n",
       "      <th>2</th>\n",
       "      <td>1.540826</td>\n",
       "      <td>-0.593842</td>\n",
       "      <td>0.688351</td>\n",
       "      <td>-0.086375</td>\n",
       "      <td>-0.745757</td>\n",
       "    </tr>\n",
       "    <tr>\n",
       "      <th>3</th>\n",
       "      <td>-0.890024</td>\n",
       "      <td>0.422226</td>\n",
       "      <td>0.091775</td>\n",
       "      <td>-0.081508</td>\n",
       "      <td>2.297221</td>\n",
       "    </tr>\n",
       "    <tr>\n",
       "      <th>4</th>\n",
       "      <td>-1.245824</td>\n",
       "      <td>-2.034470</td>\n",
       "      <td>0.863994</td>\n",
       "      <td>-0.585845</td>\n",
       "      <td>0.911247</td>\n",
       "    </tr>\n",
       "    <tr>\n",
       "      <th>5</th>\n",
       "      <td>-0.112049</td>\n",
       "      <td>-0.427215</td>\n",
       "      <td>0.686997</td>\n",
       "      <td>-0.953310</td>\n",
       "      <td>1.706835</td>\n",
       "    </tr>\n",
       "    <tr>\n",
       "      <th>6</th>\n",
       "      <td>0.012229</td>\n",
       "      <td>-1.765432</td>\n",
       "      <td>-1.018632</td>\n",
       "      <td>-0.080710</td>\n",
       "      <td>-1.579879</td>\n",
       "    </tr>\n",
       "    <tr>\n",
       "      <th>7</th>\n",
       "      <td>-0.408726</td>\n",
       "      <td>1.184166</td>\n",
       "      <td>-0.550803</td>\n",
       "      <td>-0.039626</td>\n",
       "      <td>-0.395397</td>\n",
       "    </tr>\n",
       "    <tr>\n",
       "      <th>8</th>\n",
       "      <td>0.462118</td>\n",
       "      <td>0.068041</td>\n",
       "      <td>-0.120677</td>\n",
       "      <td>-1.672689</td>\n",
       "      <td>-0.046978</td>\n",
       "    </tr>\n",
       "    <tr>\n",
       "      <th>9</th>\n",
       "      <td>0.471213</td>\n",
       "      <td>0.171176</td>\n",
       "      <td>1.518880</td>\n",
       "      <td>0.983790</td>\n",
       "      <td>1.143185</td>\n",
       "    </tr>\n",
       "  </tbody>\n",
       "</table>\n",
       "</div>"
      ],
      "text/plain": [
       "   2019-04-03  2019-04-04  2019-04-05  2019-04-08  2019-04-09\n",
       "0    0.724552   -0.551971    0.149685    2.102039   -0.357042\n",
       "1    1.514493   -1.016702    2.474262    1.904829   -0.149379\n",
       "2    1.540826   -0.593842    0.688351   -0.086375   -0.745757\n",
       "3   -0.890024    0.422226    0.091775   -0.081508    2.297221\n",
       "4   -1.245824   -2.034470    0.863994   -0.585845    0.911247\n",
       "5   -0.112049   -0.427215    0.686997   -0.953310    1.706835\n",
       "6    0.012229   -1.765432   -1.018632   -0.080710   -1.579879\n",
       "7   -0.408726    1.184166   -0.550803   -0.039626   -0.395397\n",
       "8    0.462118    0.068041   -0.120677   -1.672689   -0.046978\n",
       "9    0.471213    0.171176    1.518880    0.983790    1.143185"
      ]
     },
     "execution_count": 47,
     "metadata": {},
     "output_type": "execute_result"
    }
   ],
   "source": [
    "stock_c.reset_index(drop=True)"
   ]
  },
  {
   "cell_type": "markdown",
   "metadata": {},
   "source": [
    "## 以某列设置新的索引"
   ]
  },
  {
   "cell_type": "code",
   "execution_count": 48,
   "metadata": {},
   "outputs": [],
   "source": [
    "df = pd.DataFrame({'month': [1, 4, 7, 10],\n",
    "                    'year': [2012, 2014, 2013, 2014],\n",
    "                    'sale':[55, 40, 84, 31]})"
   ]
  },
  {
   "cell_type": "code",
   "execution_count": 49,
   "metadata": {},
   "outputs": [
    {
     "data": {
      "text/html": [
       "<div>\n",
       "<style>\n",
       "    .dataframe thead tr:only-child th {\n",
       "        text-align: right;\n",
       "    }\n",
       "\n",
       "    .dataframe thead th {\n",
       "        text-align: left;\n",
       "    }\n",
       "\n",
       "    .dataframe tbody tr th {\n",
       "        vertical-align: top;\n",
       "    }\n",
       "</style>\n",
       "<table border=\"1\" class=\"dataframe\">\n",
       "  <thead>\n",
       "    <tr style=\"text-align: right;\">\n",
       "      <th></th>\n",
       "      <th>month</th>\n",
       "      <th>sale</th>\n",
       "      <th>year</th>\n",
       "    </tr>\n",
       "  </thead>\n",
       "  <tbody>\n",
       "    <tr>\n",
       "      <th>0</th>\n",
       "      <td>1</td>\n",
       "      <td>55</td>\n",
       "      <td>2012</td>\n",
       "    </tr>\n",
       "    <tr>\n",
       "      <th>1</th>\n",
       "      <td>4</td>\n",
       "      <td>40</td>\n",
       "      <td>2014</td>\n",
       "    </tr>\n",
       "    <tr>\n",
       "      <th>2</th>\n",
       "      <td>7</td>\n",
       "      <td>84</td>\n",
       "      <td>2013</td>\n",
       "    </tr>\n",
       "    <tr>\n",
       "      <th>3</th>\n",
       "      <td>10</td>\n",
       "      <td>31</td>\n",
       "      <td>2014</td>\n",
       "    </tr>\n",
       "  </tbody>\n",
       "</table>\n",
       "</div>"
      ],
      "text/plain": [
       "   month  sale  year\n",
       "0      1    55  2012\n",
       "1      4    40  2014\n",
       "2      7    84  2013\n",
       "3     10    31  2014"
      ]
     },
     "execution_count": 49,
     "metadata": {},
     "output_type": "execute_result"
    }
   ],
   "source": [
    "df"
   ]
  },
  {
   "cell_type": "code",
   "execution_count": 50,
   "metadata": {},
   "outputs": [
    {
     "data": {
      "text/html": [
       "<div>\n",
       "<style>\n",
       "    .dataframe thead tr:only-child th {\n",
       "        text-align: right;\n",
       "    }\n",
       "\n",
       "    .dataframe thead th {\n",
       "        text-align: left;\n",
       "    }\n",
       "\n",
       "    .dataframe tbody tr th {\n",
       "        vertical-align: top;\n",
       "    }\n",
       "</style>\n",
       "<table border=\"1\" class=\"dataframe\">\n",
       "  <thead>\n",
       "    <tr style=\"text-align: right;\">\n",
       "      <th></th>\n",
       "      <th>month</th>\n",
       "      <th>sale</th>\n",
       "    </tr>\n",
       "    <tr>\n",
       "      <th>year</th>\n",
       "      <th></th>\n",
       "      <th></th>\n",
       "    </tr>\n",
       "  </thead>\n",
       "  <tbody>\n",
       "    <tr>\n",
       "      <th>2012</th>\n",
       "      <td>1</td>\n",
       "      <td>55</td>\n",
       "    </tr>\n",
       "    <tr>\n",
       "      <th>2014</th>\n",
       "      <td>4</td>\n",
       "      <td>40</td>\n",
       "    </tr>\n",
       "    <tr>\n",
       "      <th>2013</th>\n",
       "      <td>7</td>\n",
       "      <td>84</td>\n",
       "    </tr>\n",
       "    <tr>\n",
       "      <th>2014</th>\n",
       "      <td>10</td>\n",
       "      <td>31</td>\n",
       "    </tr>\n",
       "  </tbody>\n",
       "</table>\n",
       "</div>"
      ],
      "text/plain": [
       "      month  sale\n",
       "year             \n",
       "2012      1    55\n",
       "2014      4    40\n",
       "2013      7    84\n",
       "2014     10    31"
      ]
     },
     "execution_count": 50,
     "metadata": {},
     "output_type": "execute_result"
    }
   ],
   "source": [
    "df.set_index(keys=[\"year\"])"
   ]
  },
  {
   "cell_type": "code",
   "execution_count": 53,
   "metadata": {},
   "outputs": [],
   "source": [
    "df = df.set_index(keys=[\"year\", \"month\"])"
   ]
  },
  {
   "cell_type": "markdown",
   "metadata": {},
   "source": [
    "# MultiIndex和panel"
   ]
  },
  {
   "cell_type": "markdown",
   "metadata": {},
   "source": [
    "## MultiIndex"
   ]
  },
  {
   "cell_type": "code",
   "execution_count": 54,
   "metadata": {},
   "outputs": [
    {
     "data": {
      "text/html": [
       "<div>\n",
       "<style>\n",
       "    .dataframe thead tr:only-child th {\n",
       "        text-align: right;\n",
       "    }\n",
       "\n",
       "    .dataframe thead th {\n",
       "        text-align: left;\n",
       "    }\n",
       "\n",
       "    .dataframe tbody tr th {\n",
       "        vertical-align: top;\n",
       "    }\n",
       "</style>\n",
       "<table border=\"1\" class=\"dataframe\">\n",
       "  <thead>\n",
       "    <tr style=\"text-align: right;\">\n",
       "      <th></th>\n",
       "      <th></th>\n",
       "      <th>sale</th>\n",
       "    </tr>\n",
       "    <tr>\n",
       "      <th>year</th>\n",
       "      <th>month</th>\n",
       "      <th></th>\n",
       "    </tr>\n",
       "  </thead>\n",
       "  <tbody>\n",
       "    <tr>\n",
       "      <th>2012</th>\n",
       "      <th>1</th>\n",
       "      <td>55</td>\n",
       "    </tr>\n",
       "    <tr>\n",
       "      <th>2014</th>\n",
       "      <th>4</th>\n",
       "      <td>40</td>\n",
       "    </tr>\n",
       "    <tr>\n",
       "      <th>2013</th>\n",
       "      <th>7</th>\n",
       "      <td>84</td>\n",
       "    </tr>\n",
       "    <tr>\n",
       "      <th>2014</th>\n",
       "      <th>10</th>\n",
       "      <td>31</td>\n",
       "    </tr>\n",
       "  </tbody>\n",
       "</table>\n",
       "</div>"
      ],
      "text/plain": [
       "            sale\n",
       "year month      \n",
       "2012 1        55\n",
       "2014 4        40\n",
       "2013 7        84\n",
       "2014 10       31"
      ]
     },
     "execution_count": 54,
     "metadata": {},
     "output_type": "execute_result"
    }
   ],
   "source": [
    "df"
   ]
  },
  {
   "cell_type": "code",
   "execution_count": 55,
   "metadata": {},
   "outputs": [
    {
     "data": {
      "text/plain": [
       "MultiIndex(levels=[[2012, 2013, 2014], [1, 4, 7, 10]],\n",
       "           labels=[[0, 2, 1, 2], [0, 1, 2, 3]],\n",
       "           names=['year', 'month'])"
      ]
     },
     "execution_count": 55,
     "metadata": {},
     "output_type": "execute_result"
    }
   ],
   "source": [
    "df.index"
   ]
  },
  {
   "cell_type": "code",
   "execution_count": 56,
   "metadata": {},
   "outputs": [
    {
     "data": {
      "text/plain": [
       "FrozenList(['year', 'month'])"
      ]
     },
     "execution_count": 56,
     "metadata": {},
     "output_type": "execute_result"
    }
   ],
   "source": [
    "df.index.names"
   ]
  },
  {
   "cell_type": "code",
   "execution_count": 57,
   "metadata": {},
   "outputs": [
    {
     "data": {
      "text/plain": [
       "FrozenList([[2012, 2013, 2014], [1, 4, 7, 10]])"
      ]
     },
     "execution_count": 57,
     "metadata": {},
     "output_type": "execute_result"
    }
   ],
   "source": [
    "df.index.levels"
   ]
  },
  {
   "cell_type": "markdown",
   "metadata": {},
   "source": [
    "## panel"
   ]
  },
  {
   "cell_type": "code",
   "execution_count": 58,
   "metadata": {},
   "outputs": [
    {
     "data": {
      "text/plain": [
       "array([[[ 0,  1],\n",
       "        [ 2,  3],\n",
       "        [ 4,  5]],\n",
       "\n",
       "       [[ 6,  7],\n",
       "        [ 8,  9],\n",
       "        [10, 11]],\n",
       "\n",
       "       [[12, 13],\n",
       "        [14, 15],\n",
       "        [16, 17]],\n",
       "\n",
       "       [[18, 19],\n",
       "        [20, 21],\n",
       "        [22, 23]]])"
      ]
     },
     "execution_count": 58,
     "metadata": {},
     "output_type": "execute_result"
    }
   ],
   "source": [
    "np.arange(24).reshape(4,3,2)"
   ]
  },
  {
   "cell_type": "code",
   "execution_count": 59,
   "metadata": {},
   "outputs": [],
   "source": [
    "p = pd.Panel(np.arange(24).reshape(4,3,2),\n",
    "                 items=list('ABCD'),\n",
    "                 major_axis=pd.date_range('20130101', periods=3),\n",
    "                 minor_axis=['first', 'second'])"
   ]
  },
  {
   "cell_type": "code",
   "execution_count": 60,
   "metadata": {},
   "outputs": [
    {
     "data": {
      "text/plain": [
       "<class 'pandas.core.panel.Panel'>\n",
       "Dimensions: 4 (items) x 3 (major_axis) x 2 (minor_axis)\n",
       "Items axis: A to D\n",
       "Major_axis axis: 2013-01-01 00:00:00 to 2013-01-03 00:00:00\n",
       "Minor_axis axis: first to second"
      ]
     },
     "execution_count": 60,
     "metadata": {},
     "output_type": "execute_result"
    }
   ],
   "source": [
    "p"
   ]
  },
  {
   "cell_type": "code",
   "execution_count": 62,
   "metadata": {},
   "outputs": [
    {
     "data": {
      "text/html": [
       "<div>\n",
       "<style>\n",
       "    .dataframe thead tr:only-child th {\n",
       "        text-align: right;\n",
       "    }\n",
       "\n",
       "    .dataframe thead th {\n",
       "        text-align: left;\n",
       "    }\n",
       "\n",
       "    .dataframe tbody tr th {\n",
       "        vertical-align: top;\n",
       "    }\n",
       "</style>\n",
       "<table border=\"1\" class=\"dataframe\">\n",
       "  <thead>\n",
       "    <tr style=\"text-align: right;\">\n",
       "      <th></th>\n",
       "      <th>A</th>\n",
       "      <th>B</th>\n",
       "      <th>C</th>\n",
       "      <th>D</th>\n",
       "    </tr>\n",
       "  </thead>\n",
       "  <tbody>\n",
       "    <tr>\n",
       "      <th>2013-01-01</th>\n",
       "      <td>0</td>\n",
       "      <td>6</td>\n",
       "      <td>12</td>\n",
       "      <td>18</td>\n",
       "    </tr>\n",
       "    <tr>\n",
       "      <th>2013-01-02</th>\n",
       "      <td>2</td>\n",
       "      <td>8</td>\n",
       "      <td>14</td>\n",
       "      <td>20</td>\n",
       "    </tr>\n",
       "    <tr>\n",
       "      <th>2013-01-03</th>\n",
       "      <td>4</td>\n",
       "      <td>10</td>\n",
       "      <td>16</td>\n",
       "      <td>22</td>\n",
       "    </tr>\n",
       "  </tbody>\n",
       "</table>\n",
       "</div>"
      ],
      "text/plain": [
       "            A   B   C   D\n",
       "2013-01-01  0   6  12  18\n",
       "2013-01-02  2   8  14  20\n",
       "2013-01-03  4  10  16  22"
      ]
     },
     "execution_count": 62,
     "metadata": {},
     "output_type": "execute_result"
    }
   ],
   "source": [
    "p[:,:,\"first\"]"
   ]
  },
  {
   "cell_type": "code",
   "execution_count": 63,
   "metadata": {},
   "outputs": [
    {
     "data": {
      "text/html": [
       "<div>\n",
       "<style>\n",
       "    .dataframe thead tr:only-child th {\n",
       "        text-align: right;\n",
       "    }\n",
       "\n",
       "    .dataframe thead th {\n",
       "        text-align: left;\n",
       "    }\n",
       "\n",
       "    .dataframe tbody tr th {\n",
       "        vertical-align: top;\n",
       "    }\n",
       "</style>\n",
       "<table border=\"1\" class=\"dataframe\">\n",
       "  <thead>\n",
       "    <tr style=\"text-align: right;\">\n",
       "      <th></th>\n",
       "      <th>first</th>\n",
       "      <th>second</th>\n",
       "    </tr>\n",
       "  </thead>\n",
       "  <tbody>\n",
       "    <tr>\n",
       "      <th>2013-01-01</th>\n",
       "      <td>0</td>\n",
       "      <td>1</td>\n",
       "    </tr>\n",
       "    <tr>\n",
       "      <th>2013-01-02</th>\n",
       "      <td>2</td>\n",
       "      <td>3</td>\n",
       "    </tr>\n",
       "    <tr>\n",
       "      <th>2013-01-03</th>\n",
       "      <td>4</td>\n",
       "      <td>5</td>\n",
       "    </tr>\n",
       "  </tbody>\n",
       "</table>\n",
       "</div>"
      ],
      "text/plain": [
       "            first  second\n",
       "2013-01-01      0       1\n",
       "2013-01-02      2       3\n",
       "2013-01-03      4       5"
      ]
     },
     "execution_count": 63,
     "metadata": {},
     "output_type": "execute_result"
    }
   ],
   "source": [
    "p[\"A\", :, :]"
   ]
  },
  {
   "cell_type": "markdown",
   "metadata": {},
   "source": [
    "# series"
   ]
  },
  {
   "cell_type": "code",
   "execution_count": 66,
   "metadata": {},
   "outputs": [
    {
     "data": {
      "text/plain": [
       "pandas.core.series.Series"
      ]
     },
     "execution_count": 66,
     "metadata": {},
     "output_type": "execute_result"
    }
   ],
   "source": [
    "type(stock_c[\"2019-04-03\"])"
   ]
  },
  {
   "cell_type": "code",
   "execution_count": 69,
   "metadata": {},
   "outputs": [
    {
     "data": {
      "text/html": [
       "<div>\n",
       "<style>\n",
       "    .dataframe thead tr:only-child th {\n",
       "        text-align: right;\n",
       "    }\n",
       "\n",
       "    .dataframe thead th {\n",
       "        text-align: left;\n",
       "    }\n",
       "\n",
       "    .dataframe tbody tr th {\n",
       "        vertical-align: top;\n",
       "    }\n",
       "</style>\n",
       "<table border=\"1\" class=\"dataframe\">\n",
       "  <thead>\n",
       "    <tr style=\"text-align: right;\">\n",
       "      <th></th>\n",
       "      <th>2019-04-03 00:00:00</th>\n",
       "      <th>2019-04-04 00:00:00</th>\n",
       "      <th>2019-04-05 00:00:00</th>\n",
       "      <th>2019-04-08 00:00:00</th>\n",
       "      <th>2019-04-09 00:00:00</th>\n",
       "    </tr>\n",
       "  </thead>\n",
       "  <tbody>\n",
       "    <tr>\n",
       "      <th>股票__1</th>\n",
       "      <td>0.724552</td>\n",
       "      <td>-0.551971</td>\n",
       "      <td>0.149685</td>\n",
       "      <td>2.102039</td>\n",
       "      <td>-0.357042</td>\n",
       "    </tr>\n",
       "    <tr>\n",
       "      <th>股票__2</th>\n",
       "      <td>1.514493</td>\n",
       "      <td>-1.016702</td>\n",
       "      <td>2.474262</td>\n",
       "      <td>1.904829</td>\n",
       "      <td>-0.149379</td>\n",
       "    </tr>\n",
       "    <tr>\n",
       "      <th>股票__3</th>\n",
       "      <td>1.540826</td>\n",
       "      <td>-0.593842</td>\n",
       "      <td>0.688351</td>\n",
       "      <td>-0.086375</td>\n",
       "      <td>-0.745757</td>\n",
       "    </tr>\n",
       "    <tr>\n",
       "      <th>股票__4</th>\n",
       "      <td>-0.890024</td>\n",
       "      <td>0.422226</td>\n",
       "      <td>0.091775</td>\n",
       "      <td>-0.081508</td>\n",
       "      <td>2.297221</td>\n",
       "    </tr>\n",
       "    <tr>\n",
       "      <th>股票__5</th>\n",
       "      <td>-1.245824</td>\n",
       "      <td>-2.034470</td>\n",
       "      <td>0.863994</td>\n",
       "      <td>-0.585845</td>\n",
       "      <td>0.911247</td>\n",
       "    </tr>\n",
       "    <tr>\n",
       "      <th>股票__6</th>\n",
       "      <td>-0.112049</td>\n",
       "      <td>-0.427215</td>\n",
       "      <td>0.686997</td>\n",
       "      <td>-0.953310</td>\n",
       "      <td>1.706835</td>\n",
       "    </tr>\n",
       "    <tr>\n",
       "      <th>股票__7</th>\n",
       "      <td>0.012229</td>\n",
       "      <td>-1.765432</td>\n",
       "      <td>-1.018632</td>\n",
       "      <td>-0.080710</td>\n",
       "      <td>-1.579879</td>\n",
       "    </tr>\n",
       "    <tr>\n",
       "      <th>股票__8</th>\n",
       "      <td>-0.408726</td>\n",
       "      <td>1.184166</td>\n",
       "      <td>-0.550803</td>\n",
       "      <td>-0.039626</td>\n",
       "      <td>-0.395397</td>\n",
       "    </tr>\n",
       "    <tr>\n",
       "      <th>股票__9</th>\n",
       "      <td>0.462118</td>\n",
       "      <td>0.068041</td>\n",
       "      <td>-0.120677</td>\n",
       "      <td>-1.672689</td>\n",
       "      <td>-0.046978</td>\n",
       "    </tr>\n",
       "    <tr>\n",
       "      <th>股票__10</th>\n",
       "      <td>0.471213</td>\n",
       "      <td>0.171176</td>\n",
       "      <td>1.518880</td>\n",
       "      <td>0.983790</td>\n",
       "      <td>1.143185</td>\n",
       "    </tr>\n",
       "  </tbody>\n",
       "</table>\n",
       "</div>"
      ],
      "text/plain": [
       "        2019-04-03  2019-04-04  2019-04-05  2019-04-08  2019-04-09\n",
       "股票__1     0.724552   -0.551971    0.149685    2.102039   -0.357042\n",
       "股票__2     1.514493   -1.016702    2.474262    1.904829   -0.149379\n",
       "股票__3     1.540826   -0.593842    0.688351   -0.086375   -0.745757\n",
       "股票__4    -0.890024    0.422226    0.091775   -0.081508    2.297221\n",
       "股票__5    -1.245824   -2.034470    0.863994   -0.585845    0.911247\n",
       "股票__6    -0.112049   -0.427215    0.686997   -0.953310    1.706835\n",
       "股票__7     0.012229   -1.765432   -1.018632   -0.080710   -1.579879\n",
       "股票__8    -0.408726    1.184166   -0.550803   -0.039626   -0.395397\n",
       "股票__9     0.462118    0.068041   -0.120677   -1.672689   -0.046978\n",
       "股票__10    0.471213    0.171176    1.518880    0.983790    1.143185"
      ]
     },
     "execution_count": 69,
     "metadata": {},
     "output_type": "execute_result"
    }
   ],
   "source": [
    "stock_c"
   ]
  },
  {
   "cell_type": "code",
   "execution_count": 71,
   "metadata": {},
   "outputs": [
    {
     "data": {
      "text/plain": [
       "0.7245521299066583"
      ]
     },
     "execution_count": 71,
     "metadata": {},
     "output_type": "execute_result"
    }
   ],
   "source": [
    "stock_c[\"2019-04-03\"][\"股票__1\"]"
   ]
  },
  {
   "cell_type": "code",
   "execution_count": 73,
   "metadata": {},
   "outputs": [
    {
     "data": {
      "text/plain": [
       "0    0\n",
       "1    1\n",
       "2    2\n",
       "3    3\n",
       "4    4\n",
       "5    5\n",
       "6    6\n",
       "7    7\n",
       "8    8\n",
       "9    9\n",
       "dtype: int64"
      ]
     },
     "execution_count": 73,
     "metadata": {},
     "output_type": "execute_result"
    }
   ],
   "source": [
    "pd.Series(np.arange(10))"
   ]
  },
  {
   "cell_type": "code",
   "execution_count": 74,
   "metadata": {},
   "outputs": [
    {
     "data": {
      "text/plain": [
       "1     6.7\n",
       "2     5.6\n",
       "3     3.0\n",
       "4    10.0\n",
       "5     2.0\n",
       "dtype: float64"
      ]
     },
     "execution_count": 74,
     "metadata": {},
     "output_type": "execute_result"
    }
   ],
   "source": [
    "pd.Series([6.7,5.6,3,10,2], index=[1,2,3,4,5])"
   ]
  },
  {
   "cell_type": "code",
   "execution_count": 76,
   "metadata": {},
   "outputs": [],
   "source": [
    "series_demo = pd.Series({\"red\":10, \"green\":20})"
   ]
  },
  {
   "cell_type": "code",
   "execution_count": 77,
   "metadata": {},
   "outputs": [
    {
     "data": {
      "text/plain": [
       "Index(['green', 'red'], dtype='object')"
      ]
     },
     "execution_count": 77,
     "metadata": {},
     "output_type": "execute_result"
    }
   ],
   "source": [
    "series_demo.index"
   ]
  },
  {
   "cell_type": "code",
   "execution_count": 78,
   "metadata": {},
   "outputs": [
    {
     "data": {
      "text/plain": [
       "array([20, 10])"
      ]
     },
     "execution_count": 78,
     "metadata": {},
     "output_type": "execute_result"
    }
   ],
   "source": [
    "series_demo.values"
   ]
  },
  {
   "cell_type": "code",
   "execution_count": null,
   "metadata": {},
   "outputs": [],
   "source": []
  }
 ],
 "metadata": {
  "kernelspec": {
   "display_name": "Python 3",
   "language": "python",
   "name": "python3"
  },
  "language_info": {
   "codemirror_mode": {
    "name": "ipython",
    "version": 3
   },
   "file_extension": ".py",
   "mimetype": "text/x-python",
   "name": "python",
   "nbconvert_exporter": "python",
   "pygments_lexer": "ipython3",
   "version": "3.6.5"
  },
  "toc": {
   "base_numbering": 1,
   "nav_menu": {},
   "number_sections": true,
   "sideBar": true,
   "skip_h1_title": false,
   "title_cell": "Table of Contents",
   "title_sidebar": "Contents",
   "toc_cell": false,
   "toc_position": {},
   "toc_section_display": true,
   "toc_window_display": true
  }
 },
 "nbformat": 4,
 "nbformat_minor": 2
}
